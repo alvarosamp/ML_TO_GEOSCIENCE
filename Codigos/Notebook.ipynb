{
 "cells": [
  {
   "cell_type": "code",
   "execution_count": 31,
   "id": "9d071c06",
   "metadata": {},
   "outputs": [
    {
     "name": "stdout",
     "output_type": "stream",
     "text": [
      "Requirement already satisfied: pandas in c:\\users\\vish8\\onedrive\\desktop\\cursos\\mltogeoscience\\ml_to_geoscience\\.venv\\lib\\site-packages (2.3.1)\n",
      "Requirement already satisfied: numpy>=1.23.2 in c:\\users\\vish8\\onedrive\\desktop\\cursos\\mltogeoscience\\ml_to_geoscience\\.venv\\lib\\site-packages (from pandas) (2.3.1)\n",
      "Requirement already satisfied: python-dateutil>=2.8.2 in c:\\users\\vish8\\onedrive\\desktop\\cursos\\mltogeoscience\\ml_to_geoscience\\.venv\\lib\\site-packages (from pandas) (2.9.0.post0)\n",
      "Requirement already satisfied: pytz>=2020.1 in c:\\users\\vish8\\onedrive\\desktop\\cursos\\mltogeoscience\\ml_to_geoscience\\.venv\\lib\\site-packages (from pandas) (2025.2)\n",
      "Requirement already satisfied: tzdata>=2022.7 in c:\\users\\vish8\\onedrive\\desktop\\cursos\\mltogeoscience\\ml_to_geoscience\\.venv\\lib\\site-packages (from pandas) (2025.2)\n",
      "Requirement already satisfied: six>=1.5 in c:\\users\\vish8\\onedrive\\desktop\\cursos\\mltogeoscience\\ml_to_geoscience\\.venv\\lib\\site-packages (from python-dateutil>=2.8.2->pandas) (1.17.0)\n",
      "Collecting matplotlib\n",
      "  Using cached matplotlib-3.10.3-cp311-cp311-win_amd64.whl.metadata (11 kB)\n",
      "Collecting contourpy>=1.0.1 (from matplotlib)\n",
      "  Using cached contourpy-1.3.2-cp311-cp311-win_amd64.whl.metadata (5.5 kB)\n",
      "Collecting cycler>=0.10 (from matplotlib)\n",
      "  Using cached cycler-0.12.1-py3-none-any.whl.metadata (3.8 kB)\n",
      "Collecting fonttools>=4.22.0 (from matplotlib)\n",
      "  Downloading fonttools-4.59.0-cp311-cp311-win_amd64.whl.metadata (110 kB)\n",
      "Collecting kiwisolver>=1.3.1 (from matplotlib)\n",
      "  Using cached kiwisolver-1.4.8-cp311-cp311-win_amd64.whl.metadata (6.3 kB)\n",
      "Requirement already satisfied: numpy>=1.23 in c:\\users\\vish8\\onedrive\\desktop\\cursos\\mltogeoscience\\ml_to_geoscience\\.venv\\lib\\site-packages (from matplotlib) (2.3.1)\n",
      "Requirement already satisfied: packaging>=20.0 in c:\\users\\vish8\\onedrive\\desktop\\cursos\\mltogeoscience\\ml_to_geoscience\\.venv\\lib\\site-packages (from matplotlib) (25.0)\n",
      "Collecting pillow>=8 (from matplotlib)\n",
      "  Using cached pillow-11.3.0-cp311-cp311-win_amd64.whl.metadata (9.2 kB)\n",
      "Collecting pyparsing>=2.3.1 (from matplotlib)\n",
      "  Using cached pyparsing-3.2.3-py3-none-any.whl.metadata (5.0 kB)\n",
      "Requirement already satisfied: python-dateutil>=2.7 in c:\\users\\vish8\\onedrive\\desktop\\cursos\\mltogeoscience\\ml_to_geoscience\\.venv\\lib\\site-packages (from matplotlib) (2.9.0.post0)\n",
      "Requirement already satisfied: six>=1.5 in c:\\users\\vish8\\onedrive\\desktop\\cursos\\mltogeoscience\\ml_to_geoscience\\.venv\\lib\\site-packages (from python-dateutil>=2.7->matplotlib) (1.17.0)\n",
      "Using cached matplotlib-3.10.3-cp311-cp311-win_amd64.whl (8.1 MB)\n",
      "Using cached contourpy-1.3.2-cp311-cp311-win_amd64.whl (222 kB)\n",
      "Using cached cycler-0.12.1-py3-none-any.whl (8.3 kB)\n",
      "Downloading fonttools-4.59.0-cp311-cp311-win_amd64.whl (2.3 MB)\n",
      "   ---------------------------------------- 0.0/2.3 MB ? eta -:--:--\n",
      "   ---------------------------------------- 2.3/2.3 MB 16.0 MB/s eta 0:00:00\n",
      "Using cached kiwisolver-1.4.8-cp311-cp311-win_amd64.whl (71 kB)\n",
      "Using cached pillow-11.3.0-cp311-cp311-win_amd64.whl (7.0 MB)\n",
      "Using cached pyparsing-3.2.3-py3-none-any.whl (111 kB)\n",
      "Installing collected packages: pyparsing, pillow, kiwisolver, fonttools, cycler, contourpy, matplotlib\n",
      "\n",
      "   ---------------------------------------- 0/7 [pyparsing]\n",
      "   ----- ---------------------------------- 1/7 [pillow]\n",
      "   ----- ---------------------------------- 1/7 [pillow]\n",
      "   ----- ---------------------------------- 1/7 [pillow]\n",
      "   ----- ---------------------------------- 1/7 [pillow]\n",
      "   ----- ---------------------------------- 1/7 [pillow]\n",
      "   ----- ---------------------------------- 1/7 [pillow]\n",
      "   ----- ---------------------------------- 1/7 [pillow]\n",
      "   ----- ---------------------------------- 1/7 [pillow]\n",
      "   ----- ---------------------------------- 1/7 [pillow]\n",
      "   ----- ---------------------------------- 1/7 [pillow]\n",
      "   ----- ---------------------------------- 1/7 [pillow]\n",
      "   ----------- ---------------------------- 2/7 [kiwisolver]\n",
      "   ----------------- ---------------------- 3/7 [fonttools]\n",
      "   ----------------- ---------------------- 3/7 [fonttools]\n",
      "   ----------------- ---------------------- 3/7 [fonttools]\n",
      "   ----------------- ---------------------- 3/7 [fonttools]\n",
      "   ----------------- ---------------------- 3/7 [fonttools]\n",
      "   ----------------- ---------------------- 3/7 [fonttools]\n",
      "   ----------------- ---------------------- 3/7 [fonttools]\n",
      "   ----------------- ---------------------- 3/7 [fonttools]\n",
      "   ----------------- ---------------------- 3/7 [fonttools]\n",
      "   ----------------- ---------------------- 3/7 [fonttools]\n",
      "   ----------------- ---------------------- 3/7 [fonttools]\n",
      "   ----------------- ---------------------- 3/7 [fonttools]\n",
      "   ----------------- ---------------------- 3/7 [fonttools]\n",
      "   ----------------- ---------------------- 3/7 [fonttools]\n",
      "   ----------------- ---------------------- 3/7 [fonttools]\n",
      "   ----------------- ---------------------- 3/7 [fonttools]\n",
      "   ----------------- ---------------------- 3/7 [fonttools]\n",
      "   ----------------- ---------------------- 3/7 [fonttools]\n",
      "   ----------------- ---------------------- 3/7 [fonttools]\n",
      "   ----------------- ---------------------- 3/7 [fonttools]\n",
      "   ----------------- ---------------------- 3/7 [fonttools]\n",
      "   ----------------- ---------------------- 3/7 [fonttools]\n",
      "   ----------------- ---------------------- 3/7 [fonttools]\n",
      "   ----------------- ---------------------- 3/7 [fonttools]\n",
      "   ----------------- ---------------------- 3/7 [fonttools]\n",
      "   ----------------- ---------------------- 3/7 [fonttools]\n",
      "   ----------------- ---------------------- 3/7 [fonttools]\n",
      "   ----------------- ---------------------- 3/7 [fonttools]\n",
      "   ----------------- ---------------------- 3/7 [fonttools]\n",
      "   ----------------- ---------------------- 3/7 [fonttools]\n",
      "   ----------------- ---------------------- 3/7 [fonttools]\n",
      "   ----------------- ---------------------- 3/7 [fonttools]\n",
      "   ----------------- ---------------------- 3/7 [fonttools]\n",
      "   ----------------- ---------------------- 3/7 [fonttools]\n",
      "   ----------------- ---------------------- 3/7 [fonttools]\n",
      "   ----------------- ---------------------- 3/7 [fonttools]\n",
      "   ----------------- ---------------------- 3/7 [fonttools]\n",
      "   ---------------------------- ----------- 5/7 [contourpy]\n",
      "   ---------------------------- ----------- 5/7 [contourpy]\n",
      "   ---------------------------------- ----- 6/7 [matplotlib]\n",
      "   ---------------------------------- ----- 6/7 [matplotlib]\n",
      "   ---------------------------------- ----- 6/7 [matplotlib]\n",
      "   ---------------------------------- ----- 6/7 [matplotlib]\n",
      "   ---------------------------------- ----- 6/7 [matplotlib]\n",
      "   ---------------------------------- ----- 6/7 [matplotlib]\n",
      "   ---------------------------------- ----- 6/7 [matplotlib]\n",
      "   ---------------------------------- ----- 6/7 [matplotlib]\n",
      "   ---------------------------------- ----- 6/7 [matplotlib]\n",
      "   ---------------------------------- ----- 6/7 [matplotlib]\n",
      "   ---------------------------------- ----- 6/7 [matplotlib]\n",
      "   ---------------------------------- ----- 6/7 [matplotlib]\n",
      "   ---------------------------------- ----- 6/7 [matplotlib]\n",
      "   ---------------------------------- ----- 6/7 [matplotlib]\n",
      "   ---------------------------------- ----- 6/7 [matplotlib]\n",
      "   ---------------------------------- ----- 6/7 [matplotlib]\n",
      "   ---------------------------------- ----- 6/7 [matplotlib]\n",
      "   ---------------------------------- ----- 6/7 [matplotlib]\n",
      "   ---------------------------------- ----- 6/7 [matplotlib]\n",
      "   ---------------------------------- ----- 6/7 [matplotlib]\n",
      "   ---------------------------------- ----- 6/7 [matplotlib]\n",
      "   ---------------------------------- ----- 6/7 [matplotlib]\n",
      "   ---------------------------------- ----- 6/7 [matplotlib]\n",
      "   ---------------------------------- ----- 6/7 [matplotlib]\n",
      "   ---------------------------------- ----- 6/7 [matplotlib]\n",
      "   ---------------------------------- ----- 6/7 [matplotlib]\n",
      "   ---------------------------------- ----- 6/7 [matplotlib]\n",
      "   ---------------------------------- ----- 6/7 [matplotlib]\n",
      "   ---------------------------------- ----- 6/7 [matplotlib]\n",
      "   ---------------------------------- ----- 6/7 [matplotlib]\n",
      "   ---------------------------------- ----- 6/7 [matplotlib]\n",
      "   ---------------------------------- ----- 6/7 [matplotlib]\n",
      "   ---------------------------------- ----- 6/7 [matplotlib]\n",
      "   ---------------------------------- ----- 6/7 [matplotlib]\n",
      "   ---------------------------------- ----- 6/7 [matplotlib]\n",
      "   ---------------------------------- ----- 6/7 [matplotlib]\n",
      "   ---------------------------------- ----- 6/7 [matplotlib]\n",
      "   ---------------------------------- ----- 6/7 [matplotlib]\n",
      "   ---------------------------------------- 7/7 [matplotlib]\n",
      "\n",
      "Successfully installed contourpy-1.3.2 cycler-0.12.1 fonttools-4.59.0 kiwisolver-1.4.8 matplotlib-3.10.3 pillow-11.3.0 pyparsing-3.2.3\n",
      "Collecting seaborn\n",
      "  Using cached seaborn-0.13.2-py3-none-any.whl.metadata (5.4 kB)\n",
      "Requirement already satisfied: numpy!=1.24.0,>=1.20 in c:\\users\\vish8\\onedrive\\desktop\\cursos\\mltogeoscience\\ml_to_geoscience\\.venv\\lib\\site-packages (from seaborn) (2.3.1)\n",
      "Requirement already satisfied: pandas>=1.2 in c:\\users\\vish8\\onedrive\\desktop\\cursos\\mltogeoscience\\ml_to_geoscience\\.venv\\lib\\site-packages (from seaborn) (2.3.1)\n",
      "Requirement already satisfied: matplotlib!=3.6.1,>=3.4 in c:\\users\\vish8\\onedrive\\desktop\\cursos\\mltogeoscience\\ml_to_geoscience\\.venv\\lib\\site-packages (from seaborn) (3.10.3)\n",
      "Requirement already satisfied: contourpy>=1.0.1 in c:\\users\\vish8\\onedrive\\desktop\\cursos\\mltogeoscience\\ml_to_geoscience\\.venv\\lib\\site-packages (from matplotlib!=3.6.1,>=3.4->seaborn) (1.3.2)\n",
      "Requirement already satisfied: cycler>=0.10 in c:\\users\\vish8\\onedrive\\desktop\\cursos\\mltogeoscience\\ml_to_geoscience\\.venv\\lib\\site-packages (from matplotlib!=3.6.1,>=3.4->seaborn) (0.12.1)\n",
      "Requirement already satisfied: fonttools>=4.22.0 in c:\\users\\vish8\\onedrive\\desktop\\cursos\\mltogeoscience\\ml_to_geoscience\\.venv\\lib\\site-packages (from matplotlib!=3.6.1,>=3.4->seaborn) (4.59.0)\n",
      "Requirement already satisfied: kiwisolver>=1.3.1 in c:\\users\\vish8\\onedrive\\desktop\\cursos\\mltogeoscience\\ml_to_geoscience\\.venv\\lib\\site-packages (from matplotlib!=3.6.1,>=3.4->seaborn) (1.4.8)\n",
      "Requirement already satisfied: packaging>=20.0 in c:\\users\\vish8\\onedrive\\desktop\\cursos\\mltogeoscience\\ml_to_geoscience\\.venv\\lib\\site-packages (from matplotlib!=3.6.1,>=3.4->seaborn) (25.0)\n",
      "Requirement already satisfied: pillow>=8 in c:\\users\\vish8\\onedrive\\desktop\\cursos\\mltogeoscience\\ml_to_geoscience\\.venv\\lib\\site-packages (from matplotlib!=3.6.1,>=3.4->seaborn) (11.3.0)\n",
      "Requirement already satisfied: pyparsing>=2.3.1 in c:\\users\\vish8\\onedrive\\desktop\\cursos\\mltogeoscience\\ml_to_geoscience\\.venv\\lib\\site-packages (from matplotlib!=3.6.1,>=3.4->seaborn) (3.2.3)\n",
      "Requirement already satisfied: python-dateutil>=2.7 in c:\\users\\vish8\\onedrive\\desktop\\cursos\\mltogeoscience\\ml_to_geoscience\\.venv\\lib\\site-packages (from matplotlib!=3.6.1,>=3.4->seaborn) (2.9.0.post0)\n",
      "Requirement already satisfied: pytz>=2020.1 in c:\\users\\vish8\\onedrive\\desktop\\cursos\\mltogeoscience\\ml_to_geoscience\\.venv\\lib\\site-packages (from pandas>=1.2->seaborn) (2025.2)\n",
      "Requirement already satisfied: tzdata>=2022.7 in c:\\users\\vish8\\onedrive\\desktop\\cursos\\mltogeoscience\\ml_to_geoscience\\.venv\\lib\\site-packages (from pandas>=1.2->seaborn) (2025.2)\n",
      "Requirement already satisfied: six>=1.5 in c:\\users\\vish8\\onedrive\\desktop\\cursos\\mltogeoscience\\ml_to_geoscience\\.venv\\lib\\site-packages (from python-dateutil>=2.7->matplotlib!=3.6.1,>=3.4->seaborn) (1.17.0)\n",
      "Using cached seaborn-0.13.2-py3-none-any.whl (294 kB)\n",
      "Installing collected packages: seaborn\n",
      "Successfully installed seaborn-0.13.2\n"
     ]
    }
   ],
   "source": [
    "!pip install pandas\n",
    "!pip install matplotlib\n",
    "!pip install seaborn\n"
   ]
  },
  {
   "cell_type": "code",
   "execution_count": 2,
   "id": "f13f29cf",
   "metadata": {},
   "outputs": [],
   "source": [
    "from datetime import datetime\n",
    "import pandas as pd "
   ]
  },
  {
   "cell_type": "code",
   "execution_count": 3,
   "id": "dd244552",
   "metadata": {},
   "outputs": [
    {
     "data": {
      "text/plain": [
       "datetime.datetime(2025, 7, 19, 13, 38, 10, 68402)"
      ]
     },
     "execution_count": 3,
     "metadata": {},
     "output_type": "execute_result"
    }
   ],
   "source": [
    "now = datetime.now()\n",
    "now"
   ]
  },
  {
   "cell_type": "code",
   "execution_count": 4,
   "id": "598f6f1e",
   "metadata": {},
   "outputs": [
    {
     "name": "stdout",
     "output_type": "stream",
     "text": [
      "2025\n",
      "7\n",
      "19\n"
     ]
    }
   ],
   "source": [
    "print(now.year)\n",
    "print(now.month)\n",
    "print(now.day)"
   ]
  },
  {
   "cell_type": "code",
   "execution_count": 5,
   "id": "a7464643",
   "metadata": {},
   "outputs": [
    {
     "data": {
      "text/plain": [
       "datetime.timedelta(days=12)"
      ]
     },
     "execution_count": 5,
     "metadata": {},
     "output_type": "execute_result"
    }
   ],
   "source": [
    "from datetime import timedelta\n",
    "#O timedelta é usado para calcular a variança de tempo entre duas datas\n",
    "timedelta(12)"
   ]
  },
  {
   "cell_type": "code",
   "execution_count": 6,
   "id": "72beb0d1",
   "metadata": {},
   "outputs": [
    {
     "data": {
      "text/plain": [
       "datetime.datetime(2025, 7, 7, 13, 38, 10, 68402)"
      ]
     },
     "execution_count": 6,
     "metadata": {},
     "output_type": "execute_result"
    }
   ],
   "source": [
    "delta = now - timedelta(12)\n",
    "delta"
   ]
  },
  {
   "cell_type": "markdown",
   "id": "0ff23544",
   "metadata": {},
   "source": [
    "Podemos formatar as datas em strings, utilizando str ou strtime, passando o formato específicado"
   ]
  },
  {
   "cell_type": "code",
   "execution_count": 7,
   "id": "91f4fcd1",
   "metadata": {},
   "outputs": [
    {
     "data": {
      "text/plain": [
       "'2025-07-19 13:38:10.068402'"
      ]
     },
     "execution_count": 7,
     "metadata": {},
     "output_type": "execute_result"
    }
   ],
   "source": [
    "str(now)"
   ]
  },
  {
   "cell_type": "code",
   "execution_count": 8,
   "id": "e5974dfb",
   "metadata": {},
   "outputs": [
    {
     "data": {
      "text/plain": [
       "'2025-07-19'"
      ]
     },
     "execution_count": 8,
     "metadata": {},
     "output_type": "execute_result"
    }
   ],
   "source": [
    "now.strftime(\"%Y-%m-%d\")  # Formata a data como string"
   ]
  },
  {
   "cell_type": "code",
   "execution_count": 9,
   "id": "ff0924c3",
   "metadata": {},
   "outputs": [
    {
     "data": {
      "text/plain": [
       "datetime.datetime(2011, 1, 3, 0, 0)"
      ]
     },
     "execution_count": 9,
     "metadata": {},
     "output_type": "execute_result"
    }
   ],
   "source": [
    "fecha = '2011-01-03'\n",
    "datetime.strptime(fecha, \"%Y-%m-%d\")  # Converte string para datetime"
   ]
  },
  {
   "cell_type": "code",
   "execution_count": 10,
   "id": "cbc2dfcf",
   "metadata": {},
   "outputs": [
    {
     "data": {
      "text/plain": [
       "DatetimeIndex(['2024-01-01', '2024-12-31'], dtype='datetime64[ns]', freq=None)"
      ]
     },
     "execution_count": 10,
     "metadata": {},
     "output_type": "execute_result"
    }
   ],
   "source": [
    "#podemos tambem criar espações para dividir o começo e o fim de uma data\n",
    "list_of_str_date = ['2024/1/1', '2024/12/31']\n",
    "data_pd = pd.to_datetime(list_of_str_date)\n",
    "data_pd\n"
   ]
  },
  {
   "cell_type": "markdown",
   "id": "361c914b",
   "metadata": {},
   "source": [
    "## Creating data ranges\n",
    "Podemos criar índices pegando cada dia desse intervalo"
   ]
  },
  {
   "cell_type": "code",
   "execution_count": 11,
   "id": "27d28cca",
   "metadata": {},
   "outputs": [
    {
     "data": {
      "text/plain": [
       "DatetimeIndex(['2024-01-01', '2024-01-02', '2024-01-03', '2024-01-04',\n",
       "               '2024-01-05', '2024-01-06', '2024-01-07', '2024-01-08',\n",
       "               '2024-01-09', '2024-01-10',\n",
       "               ...\n",
       "               '2024-12-22', '2024-12-23', '2024-12-24', '2024-12-25',\n",
       "               '2024-12-26', '2024-12-27', '2024-12-28', '2024-12-29',\n",
       "               '2024-12-30', '2024-12-31'],\n",
       "              dtype='datetime64[ns]', length=366, freq='D')"
      ]
     },
     "execution_count": 11,
     "metadata": {},
     "output_type": "execute_result"
    }
   ],
   "source": [
    "index = pd.date_range('2024/1/1', '2024/12/31')\n",
    "index"
   ]
  },
  {
   "cell_type": "code",
   "execution_count": 12,
   "id": "bac656ef",
   "metadata": {},
   "outputs": [
    {
     "data": {
      "text/plain": [
       "pandas.core.indexes.datetimes.DatetimeIndex"
      ]
     },
     "execution_count": 12,
     "metadata": {},
     "output_type": "execute_result"
    }
   ],
   "source": [
    "type(index)"
   ]
  },
  {
   "cell_type": "code",
   "execution_count": 13,
   "id": "c00154e4",
   "metadata": {},
   "outputs": [
    {
     "data": {
      "application/vnd.microsoft.datawrangler.viewer.v0+json": {
       "columns": [
        {
         "name": "index",
         "rawType": "int64",
         "type": "integer"
        },
        {
         "name": "Year",
         "rawType": "int64",
         "type": "integer"
        },
        {
         "name": "Month",
         "rawType": "int64",
         "type": "integer"
        },
        {
         "name": "Date",
         "rawType": "object",
         "type": "string"
        },
        {
         "name": "ET0_mm",
         "rawType": "float64",
         "type": "float"
        },
        {
         "name": "Unnamed: 4",
         "rawType": "float64",
         "type": "float"
        },
        {
         "name": "Unnamed: 5",
         "rawType": "float64",
         "type": "float"
        },
        {
         "name": "Unnamed: 6",
         "rawType": "float64",
         "type": "float"
        }
       ],
       "ref": "f084f1c1-a79b-4561-ba2b-506e62dd412b",
       "rows": [
        [
         "0",
         "1990",
         "1",
         "1990-02-01",
         "229.1",
         null,
         null,
         null
        ],
        [
         "1",
         "1990",
         "2",
         "1990-03-04",
         "155.9",
         null,
         null,
         null
        ],
        [
         "2",
         "1990",
         "3",
         "1990-04-04",
         "167.9",
         null,
         null,
         null
        ],
        [
         "3",
         "1990",
         "4",
         "1990-05-05",
         "81.3",
         null,
         null,
         null
        ],
        [
         "4",
         "1990",
         "5",
         "1990-06-05",
         "40.9",
         null,
         null,
         null
        ],
        [
         "5",
         "1990",
         "6",
         "1990-07-06",
         "31.5",
         null,
         null,
         null
        ],
        [
         "6",
         "1990",
         "7",
         "1990-08-06",
         "39.8",
         null,
         null,
         null
        ],
        [
         "7",
         "1990",
         "8",
         "1990-09-06",
         "58.0",
         null,
         null,
         null
        ],
        [
         "8",
         "1990",
         "9",
         "1990-10-07",
         "88.4",
         null,
         null,
         null
        ],
        [
         "9",
         "1990",
         "10",
         "1990-11-07",
         "158.3",
         null,
         null,
         null
        ],
        [
         "10",
         "1990",
         "11",
         "1990-12-08",
         "216.1",
         null,
         null,
         null
        ],
        [
         "11",
         "1990",
         "12",
         "1991-01-01",
         "95.3",
         null,
         null,
         null
        ],
        [
         "12",
         "1991",
         "1",
         "1991-02-01",
         "242.4",
         null,
         null,
         null
        ],
        [
         "13",
         "1991",
         "2",
         "1991-03-04",
         "222.8",
         null,
         null,
         null
        ],
        [
         "14",
         "1991",
         "3",
         "1991-04-04",
         "146.8",
         null,
         null,
         null
        ],
        [
         "15",
         "1991",
         "4",
         "1991-05-05",
         "87.4",
         null,
         null,
         null
        ],
        [
         "16",
         "1991",
         "5",
         "1991-06-05",
         "49.6",
         null,
         null,
         null
        ],
        [
         "17",
         "1991",
         "6",
         "1991-07-06",
         "30.5",
         null,
         null,
         null
        ],
        [
         "18",
         "1991",
         "7",
         "1991-08-06",
         "34.6",
         null,
         null,
         null
        ],
        [
         "19",
         "1991",
         "8",
         "1991-09-06",
         "59.5",
         null,
         null,
         null
        ],
        [
         "20",
         "1991",
         "9",
         "1991-10-07",
         "91.2",
         null,
         null,
         null
        ],
        [
         "21",
         "1991",
         "10",
         "1991-11-07",
         "158.6",
         null,
         null,
         null
        ],
        [
         "22",
         "1991",
         "11",
         "1991-12-08",
         "204.8",
         null,
         null,
         null
        ],
        [
         "23",
         "1991",
         "12",
         "1992-01-01",
         "93.8",
         null,
         null,
         null
        ],
        [
         "24",
         "1992",
         "1",
         "1992-02-01",
         "206.2",
         null,
         null,
         null
        ],
        [
         "25",
         "1992",
         "2",
         "1992-03-03",
         "202.8",
         null,
         null,
         null
        ],
        [
         "26",
         "1992",
         "3",
         "1992-04-03",
         "149.6",
         null,
         null,
         null
        ],
        [
         "27",
         "1992",
         "4",
         "1992-05-04",
         "85.0",
         null,
         null,
         null
        ],
        [
         "28",
         "1992",
         "5",
         "1992-06-04",
         "44.6",
         null,
         null,
         null
        ],
        [
         "29",
         "1992",
         "6",
         "1992-07-05",
         "29.8",
         null,
         null,
         null
        ],
        [
         "30",
         "1992",
         "7",
         "1992-08-05",
         "26.8",
         null,
         null,
         null
        ],
        [
         "31",
         "1992",
         "8",
         "1992-09-05",
         "51.0",
         null,
         null,
         null
        ],
        [
         "32",
         "1992",
         "9",
         "1992-10-06",
         "77.4",
         null,
         null,
         null
        ],
        [
         "33",
         "1992",
         "10",
         "1992-11-06",
         "127.2",
         null,
         null,
         null
        ],
        [
         "34",
         "1992",
         "11",
         "1992-12-07",
         "145.2",
         null,
         null,
         null
        ],
        [
         "35",
         "1992",
         "12",
         "1993-01-01",
         "61.4",
         null,
         null,
         null
        ],
        [
         "36",
         "1993",
         "1",
         "1993-02-01",
         "191.0",
         null,
         null,
         null
        ],
        [
         "37",
         "1993",
         "2",
         "1993-03-04",
         "176.0",
         null,
         null,
         null
        ],
        [
         "38",
         "1993",
         "3",
         "1993-04-04",
         "120.0",
         null,
         null,
         null
        ],
        [
         "39",
         "1993",
         "4",
         "1993-05-05",
         "75.4",
         null,
         null,
         null
        ],
        [
         "40",
         "1993",
         "5",
         "1993-06-05",
         "35.0",
         null,
         null,
         null
        ],
        [
         "41",
         "1993",
         "6",
         "1993-07-06",
         "33.4",
         null,
         null,
         null
        ],
        [
         "42",
         "1993",
         "7",
         "1993-08-06",
         "34.6",
         null,
         null,
         null
        ],
        [
         "43",
         "1993",
         "8",
         "1993-09-06",
         "58.6",
         null,
         null,
         null
        ],
        [
         "44",
         "1993",
         "9",
         "1993-10-07",
         "92.2",
         null,
         null,
         null
        ],
        [
         "45",
         "1993",
         "10",
         "1993-11-07",
         "119.4",
         null,
         null,
         null
        ],
        [
         "46",
         "1993",
         "11",
         "1993-12-08",
         "202.0",
         null,
         null,
         null
        ],
        [
         "47",
         "1993",
         "12",
         "1994-01-01",
         "63.4",
         null,
         null,
         null
        ],
        [
         "48",
         "1994",
         "1",
         "1994-02-01",
         "218.0",
         null,
         null,
         null
        ],
        [
         "49",
         "1994",
         "2",
         "1994-03-04",
         "199.2",
         null,
         null,
         null
        ]
       ],
       "shape": {
        "columns": 7,
        "rows": 372
       }
      },
      "text/html": [
       "<div>\n",
       "<style scoped>\n",
       "    .dataframe tbody tr th:only-of-type {\n",
       "        vertical-align: middle;\n",
       "    }\n",
       "\n",
       "    .dataframe tbody tr th {\n",
       "        vertical-align: top;\n",
       "    }\n",
       "\n",
       "    .dataframe thead th {\n",
       "        text-align: right;\n",
       "    }\n",
       "</style>\n",
       "<table border=\"1\" class=\"dataframe\">\n",
       "  <thead>\n",
       "    <tr style=\"text-align: right;\">\n",
       "      <th></th>\n",
       "      <th>Year</th>\n",
       "      <th>Month</th>\n",
       "      <th>Date</th>\n",
       "      <th>ET0_mm</th>\n",
       "      <th>Unnamed: 4</th>\n",
       "      <th>Unnamed: 5</th>\n",
       "      <th>Unnamed: 6</th>\n",
       "    </tr>\n",
       "  </thead>\n",
       "  <tbody>\n",
       "    <tr>\n",
       "      <th>0</th>\n",
       "      <td>1990</td>\n",
       "      <td>1</td>\n",
       "      <td>1990-02-01</td>\n",
       "      <td>229.1</td>\n",
       "      <td>NaN</td>\n",
       "      <td>NaN</td>\n",
       "      <td>NaN</td>\n",
       "    </tr>\n",
       "    <tr>\n",
       "      <th>1</th>\n",
       "      <td>1990</td>\n",
       "      <td>2</td>\n",
       "      <td>1990-03-04</td>\n",
       "      <td>155.9</td>\n",
       "      <td>NaN</td>\n",
       "      <td>NaN</td>\n",
       "      <td>NaN</td>\n",
       "    </tr>\n",
       "    <tr>\n",
       "      <th>2</th>\n",
       "      <td>1990</td>\n",
       "      <td>3</td>\n",
       "      <td>1990-04-04</td>\n",
       "      <td>167.9</td>\n",
       "      <td>NaN</td>\n",
       "      <td>NaN</td>\n",
       "      <td>NaN</td>\n",
       "    </tr>\n",
       "    <tr>\n",
       "      <th>3</th>\n",
       "      <td>1990</td>\n",
       "      <td>4</td>\n",
       "      <td>1990-05-05</td>\n",
       "      <td>81.3</td>\n",
       "      <td>NaN</td>\n",
       "      <td>NaN</td>\n",
       "      <td>NaN</td>\n",
       "    </tr>\n",
       "    <tr>\n",
       "      <th>4</th>\n",
       "      <td>1990</td>\n",
       "      <td>5</td>\n",
       "      <td>1990-06-05</td>\n",
       "      <td>40.9</td>\n",
       "      <td>NaN</td>\n",
       "      <td>NaN</td>\n",
       "      <td>NaN</td>\n",
       "    </tr>\n",
       "    <tr>\n",
       "      <th>...</th>\n",
       "      <td>...</td>\n",
       "      <td>...</td>\n",
       "      <td>...</td>\n",
       "      <td>...</td>\n",
       "      <td>...</td>\n",
       "      <td>...</td>\n",
       "      <td>...</td>\n",
       "    </tr>\n",
       "    <tr>\n",
       "      <th>367</th>\n",
       "      <td>2020</td>\n",
       "      <td>8</td>\n",
       "      <td>2020-09-05</td>\n",
       "      <td>51.4</td>\n",
       "      <td>NaN</td>\n",
       "      <td>NaN</td>\n",
       "      <td>NaN</td>\n",
       "    </tr>\n",
       "    <tr>\n",
       "      <th>368</th>\n",
       "      <td>2020</td>\n",
       "      <td>9</td>\n",
       "      <td>2020-10-06</td>\n",
       "      <td>80.8</td>\n",
       "      <td>NaN</td>\n",
       "      <td>NaN</td>\n",
       "      <td>NaN</td>\n",
       "    </tr>\n",
       "    <tr>\n",
       "      <th>369</th>\n",
       "      <td>2020</td>\n",
       "      <td>10</td>\n",
       "      <td>2020-11-06</td>\n",
       "      <td>137.4</td>\n",
       "      <td>NaN</td>\n",
       "      <td>NaN</td>\n",
       "      <td>NaN</td>\n",
       "    </tr>\n",
       "    <tr>\n",
       "      <th>370</th>\n",
       "      <td>2020</td>\n",
       "      <td>11</td>\n",
       "      <td>2020-12-07</td>\n",
       "      <td>213.4</td>\n",
       "      <td>NaN</td>\n",
       "      <td>NaN</td>\n",
       "      <td>NaN</td>\n",
       "    </tr>\n",
       "    <tr>\n",
       "      <th>371</th>\n",
       "      <td>2020</td>\n",
       "      <td>12</td>\n",
       "      <td>2021-01-01</td>\n",
       "      <td>98.4</td>\n",
       "      <td>NaN</td>\n",
       "      <td>NaN</td>\n",
       "      <td>NaN</td>\n",
       "    </tr>\n",
       "  </tbody>\n",
       "</table>\n",
       "<p>372 rows × 7 columns</p>\n",
       "</div>"
      ],
      "text/plain": [
       "     Year  Month        Date  ET0_mm  Unnamed: 4  Unnamed: 5  Unnamed: 6\n",
       "0    1990      1  1990-02-01   229.1         NaN         NaN         NaN\n",
       "1    1990      2  1990-03-04   155.9         NaN         NaN         NaN\n",
       "2    1990      3  1990-04-04   167.9         NaN         NaN         NaN\n",
       "3    1990      4  1990-05-05    81.3         NaN         NaN         NaN\n",
       "4    1990      5  1990-06-05    40.9         NaN         NaN         NaN\n",
       "..    ...    ...         ...     ...         ...         ...         ...\n",
       "367  2020      8  2020-09-05    51.4         NaN         NaN         NaN\n",
       "368  2020      9  2020-10-06    80.8         NaN         NaN         NaN\n",
       "369  2020     10  2020-11-06   137.4         NaN         NaN         NaN\n",
       "370  2020     11  2020-12-07   213.4         NaN         NaN         NaN\n",
       "371  2020     12  2021-01-01    98.4         NaN         NaN         NaN\n",
       "\n",
       "[372 rows x 7 columns]"
      ]
     },
     "execution_count": 13,
     "metadata": {},
     "output_type": "execute_result"
    }
   ],
   "source": [
    "#Imporando o dataset \n",
    "data = pd.read_csv(r'C:\\Users\\vish8\\OneDrive\\Desktop\\Cursos\\MLtoGeoscience\\ML_TO_GEOSCIENCE\\Dados\\data_et0.csv')\n",
    "data"
   ]
  },
  {
   "cell_type": "code",
   "execution_count": 14,
   "id": "8100fa0a",
   "metadata": {},
   "outputs": [],
   "source": [
    "#De acordo com a análise gráfica dos dados podemos excluir alguns dados que nao serao necessarios\n",
    "data = data.drop(['Year', 'Month', 'Unnamed: 4', 'Unnamed: 5','Unnamed: 6'], axis=1)"
   ]
  },
  {
   "cell_type": "code",
   "execution_count": 15,
   "id": "87129efd",
   "metadata": {},
   "outputs": [
    {
     "data": {
      "application/vnd.microsoft.datawrangler.viewer.v0+json": {
       "columns": [
        {
         "name": "index",
         "rawType": "int64",
         "type": "integer"
        },
        {
         "name": "Date",
         "rawType": "object",
         "type": "string"
        },
        {
         "name": "ET0_mm",
         "rawType": "float64",
         "type": "float"
        }
       ],
       "ref": "8343c0b5-5160-43d8-8f6f-306b58aaa7e2",
       "rows": [
        [
         "0",
         "1990-02-01",
         "229.1"
        ],
        [
         "1",
         "1990-03-04",
         "155.9"
        ],
        [
         "2",
         "1990-04-04",
         "167.9"
        ],
        [
         "3",
         "1990-05-05",
         "81.3"
        ],
        [
         "4",
         "1990-06-05",
         "40.9"
        ],
        [
         "5",
         "1990-07-06",
         "31.5"
        ],
        [
         "6",
         "1990-08-06",
         "39.8"
        ],
        [
         "7",
         "1990-09-06",
         "58.0"
        ],
        [
         "8",
         "1990-10-07",
         "88.4"
        ],
        [
         "9",
         "1990-11-07",
         "158.3"
        ],
        [
         "10",
         "1990-12-08",
         "216.1"
        ],
        [
         "11",
         "1991-01-01",
         "95.3"
        ],
        [
         "12",
         "1991-02-01",
         "242.4"
        ],
        [
         "13",
         "1991-03-04",
         "222.8"
        ],
        [
         "14",
         "1991-04-04",
         "146.8"
        ],
        [
         "15",
         "1991-05-05",
         "87.4"
        ],
        [
         "16",
         "1991-06-05",
         "49.6"
        ],
        [
         "17",
         "1991-07-06",
         "30.5"
        ],
        [
         "18",
         "1991-08-06",
         "34.6"
        ],
        [
         "19",
         "1991-09-06",
         "59.5"
        ],
        [
         "20",
         "1991-10-07",
         "91.2"
        ],
        [
         "21",
         "1991-11-07",
         "158.6"
        ],
        [
         "22",
         "1991-12-08",
         "204.8"
        ],
        [
         "23",
         "1992-01-01",
         "93.8"
        ],
        [
         "24",
         "1992-02-01",
         "206.2"
        ],
        [
         "25",
         "1992-03-03",
         "202.8"
        ],
        [
         "26",
         "1992-04-03",
         "149.6"
        ],
        [
         "27",
         "1992-05-04",
         "85.0"
        ],
        [
         "28",
         "1992-06-04",
         "44.6"
        ],
        [
         "29",
         "1992-07-05",
         "29.8"
        ],
        [
         "30",
         "1992-08-05",
         "26.8"
        ],
        [
         "31",
         "1992-09-05",
         "51.0"
        ],
        [
         "32",
         "1992-10-06",
         "77.4"
        ],
        [
         "33",
         "1992-11-06",
         "127.2"
        ],
        [
         "34",
         "1992-12-07",
         "145.2"
        ],
        [
         "35",
         "1993-01-01",
         "61.4"
        ],
        [
         "36",
         "1993-02-01",
         "191.0"
        ],
        [
         "37",
         "1993-03-04",
         "176.0"
        ],
        [
         "38",
         "1993-04-04",
         "120.0"
        ],
        [
         "39",
         "1993-05-05",
         "75.4"
        ],
        [
         "40",
         "1993-06-05",
         "35.0"
        ],
        [
         "41",
         "1993-07-06",
         "33.4"
        ],
        [
         "42",
         "1993-08-06",
         "34.6"
        ],
        [
         "43",
         "1993-09-06",
         "58.6"
        ],
        [
         "44",
         "1993-10-07",
         "92.2"
        ],
        [
         "45",
         "1993-11-07",
         "119.4"
        ],
        [
         "46",
         "1993-12-08",
         "202.0"
        ],
        [
         "47",
         "1994-01-01",
         "63.4"
        ],
        [
         "48",
         "1994-02-01",
         "218.0"
        ],
        [
         "49",
         "1994-03-04",
         "199.2"
        ]
       ],
       "shape": {
        "columns": 2,
        "rows": 372
       }
      },
      "text/html": [
       "<div>\n",
       "<style scoped>\n",
       "    .dataframe tbody tr th:only-of-type {\n",
       "        vertical-align: middle;\n",
       "    }\n",
       "\n",
       "    .dataframe tbody tr th {\n",
       "        vertical-align: top;\n",
       "    }\n",
       "\n",
       "    .dataframe thead th {\n",
       "        text-align: right;\n",
       "    }\n",
       "</style>\n",
       "<table border=\"1\" class=\"dataframe\">\n",
       "  <thead>\n",
       "    <tr style=\"text-align: right;\">\n",
       "      <th></th>\n",
       "      <th>Date</th>\n",
       "      <th>ET0_mm</th>\n",
       "    </tr>\n",
       "  </thead>\n",
       "  <tbody>\n",
       "    <tr>\n",
       "      <th>0</th>\n",
       "      <td>1990-02-01</td>\n",
       "      <td>229.1</td>\n",
       "    </tr>\n",
       "    <tr>\n",
       "      <th>1</th>\n",
       "      <td>1990-03-04</td>\n",
       "      <td>155.9</td>\n",
       "    </tr>\n",
       "    <tr>\n",
       "      <th>2</th>\n",
       "      <td>1990-04-04</td>\n",
       "      <td>167.9</td>\n",
       "    </tr>\n",
       "    <tr>\n",
       "      <th>3</th>\n",
       "      <td>1990-05-05</td>\n",
       "      <td>81.3</td>\n",
       "    </tr>\n",
       "    <tr>\n",
       "      <th>4</th>\n",
       "      <td>1990-06-05</td>\n",
       "      <td>40.9</td>\n",
       "    </tr>\n",
       "    <tr>\n",
       "      <th>...</th>\n",
       "      <td>...</td>\n",
       "      <td>...</td>\n",
       "    </tr>\n",
       "    <tr>\n",
       "      <th>367</th>\n",
       "      <td>2020-09-05</td>\n",
       "      <td>51.4</td>\n",
       "    </tr>\n",
       "    <tr>\n",
       "      <th>368</th>\n",
       "      <td>2020-10-06</td>\n",
       "      <td>80.8</td>\n",
       "    </tr>\n",
       "    <tr>\n",
       "      <th>369</th>\n",
       "      <td>2020-11-06</td>\n",
       "      <td>137.4</td>\n",
       "    </tr>\n",
       "    <tr>\n",
       "      <th>370</th>\n",
       "      <td>2020-12-07</td>\n",
       "      <td>213.4</td>\n",
       "    </tr>\n",
       "    <tr>\n",
       "      <th>371</th>\n",
       "      <td>2021-01-01</td>\n",
       "      <td>98.4</td>\n",
       "    </tr>\n",
       "  </tbody>\n",
       "</table>\n",
       "<p>372 rows × 2 columns</p>\n",
       "</div>"
      ],
      "text/plain": [
       "           Date  ET0_mm\n",
       "0    1990-02-01   229.1\n",
       "1    1990-03-04   155.9\n",
       "2    1990-04-04   167.9\n",
       "3    1990-05-05    81.3\n",
       "4    1990-06-05    40.9\n",
       "..          ...     ...\n",
       "367  2020-09-05    51.4\n",
       "368  2020-10-06    80.8\n",
       "369  2020-11-06   137.4\n",
       "370  2020-12-07   213.4\n",
       "371  2021-01-01    98.4\n",
       "\n",
       "[372 rows x 2 columns]"
      ]
     },
     "execution_count": 15,
     "metadata": {},
     "output_type": "execute_result"
    }
   ],
   "source": [
    "data"
   ]
  },
  {
   "cell_type": "code",
   "execution_count": 16,
   "id": "fd1e2fc0",
   "metadata": {},
   "outputs": [
    {
     "data": {
      "text/plain": [
       "np.int64(0)"
      ]
     },
     "execution_count": 16,
     "metadata": {},
     "output_type": "execute_result"
    }
   ],
   "source": [
    "#Checando se temos valores duplicados\n",
    "data.duplicated().sum()  # Retorna o número de linhas duplicadas"
   ]
  },
  {
   "cell_type": "code",
   "execution_count": 17,
   "id": "67900ade",
   "metadata": {},
   "outputs": [
    {
     "data": {
      "application/vnd.microsoft.datawrangler.viewer.v0+json": {
       "columns": [
        {
         "name": "index",
         "rawType": "object",
         "type": "string"
        },
        {
         "name": "0",
         "rawType": "int64",
         "type": "integer"
        }
       ],
       "ref": "7e1554f3-dad3-4a75-a40d-8c9a710f1d7a",
       "rows": [
        [
         "Date",
         "0"
        ],
        [
         "ET0_mm",
         "0"
        ]
       ],
       "shape": {
        "columns": 1,
        "rows": 2
       }
      },
      "text/plain": [
       "Date      0\n",
       "ET0_mm    0\n",
       "dtype: int64"
      ]
     },
     "execution_count": 17,
     "metadata": {},
     "output_type": "execute_result"
    }
   ],
   "source": [
    "#Dados faltantes\n",
    "data.isnull().sum()  # Retorna o número de valores faltantes por coluna"
   ]
  },
  {
   "cell_type": "code",
   "execution_count": 18,
   "id": "e933c95d",
   "metadata": {},
   "outputs": [],
   "source": [
    "#Now we convert the date into a datatime object and set it as the index\n",
    "data['Date'] = pd.to_datetime(data['Date'], format='%Y-%m-%d')"
   ]
  },
  {
   "cell_type": "code",
   "execution_count": 19,
   "id": "4ef29570",
   "metadata": {},
   "outputs": [
    {
     "data": {
      "text/plain": [
       "DatetimeIndex(['1990-02-01', '1990-03-04', '1990-04-04', '1990-05-05',\n",
       "               '1990-06-05', '1990-07-06', '1990-08-06', '1990-09-06',\n",
       "               '1990-10-07', '1990-11-07',\n",
       "               ...\n",
       "               '2020-04-03', '2020-05-04', '2020-06-04', '2020-07-05',\n",
       "               '2020-08-05', '2020-09-05', '2020-10-06', '2020-11-06',\n",
       "               '2020-12-07', '2021-01-01'],\n",
       "              dtype='datetime64[ns]', name='Date', length=372, freq=None)"
      ]
     },
     "execution_count": 19,
     "metadata": {},
     "output_type": "execute_result"
    }
   ],
   "source": [
    "data.set_index('Date', inplace=True)  # Define 'Date' como o índice do DataFrame\n",
    "data.index"
   ]
  },
  {
   "cell_type": "code",
   "execution_count": 20,
   "id": "6b5ebefb",
   "metadata": {},
   "outputs": [
    {
     "data": {
      "application/vnd.microsoft.datawrangler.viewer.v0+json": {
       "columns": [
        {
         "name": "Date",
         "rawType": "datetime64[ns]",
         "type": "datetime"
        },
        {
         "name": "ET0_mm",
         "rawType": "float64",
         "type": "float"
        }
       ],
       "ref": "32eba1c2-e1ea-48f3-87da-81dffa569397",
       "rows": [
        [
         "2000-01-01 00:00:00",
         "74.0"
        ],
        [
         "2000-02-01 00:00:00",
         "202.0"
        ],
        [
         "2000-03-03 00:00:00",
         "224.8"
        ],
        [
         "2000-04-03 00:00:00",
         "147.6"
        ],
        [
         "2000-05-04 00:00:00",
         "78.2"
        ],
        [
         "2000-06-04 00:00:00",
         "32.8"
        ],
        [
         "2000-07-05 00:00:00",
         "21.2"
        ],
        [
         "2000-08-05 00:00:00",
         "31.0"
        ],
        [
         "2000-09-05 00:00:00",
         "48.6"
        ],
        [
         "2000-10-06 00:00:00",
         "83.0"
        ],
        [
         "2000-11-06 00:00:00",
         "120.2"
        ],
        [
         "2000-12-07 00:00:00",
         "210.8"
        ]
       ],
       "shape": {
        "columns": 1,
        "rows": 12
       }
      },
      "text/html": [
       "<div>\n",
       "<style scoped>\n",
       "    .dataframe tbody tr th:only-of-type {\n",
       "        vertical-align: middle;\n",
       "    }\n",
       "\n",
       "    .dataframe tbody tr th {\n",
       "        vertical-align: top;\n",
       "    }\n",
       "\n",
       "    .dataframe thead th {\n",
       "        text-align: right;\n",
       "    }\n",
       "</style>\n",
       "<table border=\"1\" class=\"dataframe\">\n",
       "  <thead>\n",
       "    <tr style=\"text-align: right;\">\n",
       "      <th></th>\n",
       "      <th>ET0_mm</th>\n",
       "    </tr>\n",
       "    <tr>\n",
       "      <th>Date</th>\n",
       "      <th></th>\n",
       "    </tr>\n",
       "  </thead>\n",
       "  <tbody>\n",
       "    <tr>\n",
       "      <th>2000-01-01</th>\n",
       "      <td>74.0</td>\n",
       "    </tr>\n",
       "    <tr>\n",
       "      <th>2000-02-01</th>\n",
       "      <td>202.0</td>\n",
       "    </tr>\n",
       "    <tr>\n",
       "      <th>2000-03-03</th>\n",
       "      <td>224.8</td>\n",
       "    </tr>\n",
       "    <tr>\n",
       "      <th>2000-04-03</th>\n",
       "      <td>147.6</td>\n",
       "    </tr>\n",
       "    <tr>\n",
       "      <th>2000-05-04</th>\n",
       "      <td>78.2</td>\n",
       "    </tr>\n",
       "    <tr>\n",
       "      <th>2000-06-04</th>\n",
       "      <td>32.8</td>\n",
       "    </tr>\n",
       "    <tr>\n",
       "      <th>2000-07-05</th>\n",
       "      <td>21.2</td>\n",
       "    </tr>\n",
       "    <tr>\n",
       "      <th>2000-08-05</th>\n",
       "      <td>31.0</td>\n",
       "    </tr>\n",
       "    <tr>\n",
       "      <th>2000-09-05</th>\n",
       "      <td>48.6</td>\n",
       "    </tr>\n",
       "    <tr>\n",
       "      <th>2000-10-06</th>\n",
       "      <td>83.0</td>\n",
       "    </tr>\n",
       "    <tr>\n",
       "      <th>2000-11-06</th>\n",
       "      <td>120.2</td>\n",
       "    </tr>\n",
       "    <tr>\n",
       "      <th>2000-12-07</th>\n",
       "      <td>210.8</td>\n",
       "    </tr>\n",
       "  </tbody>\n",
       "</table>\n",
       "</div>"
      ],
      "text/plain": [
       "            ET0_mm\n",
       "Date              \n",
       "2000-01-01    74.0\n",
       "2000-02-01   202.0\n",
       "2000-03-03   224.8\n",
       "2000-04-03   147.6\n",
       "2000-05-04    78.2\n",
       "2000-06-04    32.8\n",
       "2000-07-05    21.2\n",
       "2000-08-05    31.0\n",
       "2000-09-05    48.6\n",
       "2000-10-06    83.0\n",
       "2000-11-06   120.2\n",
       "2000-12-07   210.8"
      ]
     },
     "execution_count": 20,
     "metadata": {},
     "output_type": "execute_result"
    }
   ],
   "source": [
    "#Selecionando um intevalo de tempo e vendo os valores\n",
    "data['2000-01-01':'2000-12-31']"
   ]
  },
  {
   "cell_type": "code",
   "execution_count": 21,
   "id": "e27149c9",
   "metadata": {},
   "outputs": [
    {
     "data": {
      "application/vnd.microsoft.datawrangler.viewer.v0+json": {
       "columns": [
        {
         "name": "Date",
         "rawType": "datetime64[ns]",
         "type": "datetime"
        },
        {
         "name": "ET0_mm",
         "rawType": "float64",
         "type": "float"
        }
       ],
       "ref": "a3b815e4-fc45-481e-99d5-6feaf78869cd",
       "rows": [
        [
         "2009-01-01 00:00:00",
         "92.0"
        ],
        [
         "2009-02-01 00:00:00",
         "286.4"
        ],
        [
         "2009-03-04 00:00:00",
         "239.4"
        ],
        [
         "2009-04-04 00:00:00",
         "147.0"
        ],
        [
         "2009-05-05 00:00:00",
         "120.4"
        ],
        [
         "2009-06-05 00:00:00",
         "41.6"
        ],
        [
         "2009-07-06 00:00:00",
         "28.2"
        ],
        [
         "2009-08-06 00:00:00",
         "27.8"
        ],
        [
         "2009-09-06 00:00:00",
         "56.6"
        ],
        [
         "2009-10-07 00:00:00",
         "80.6"
        ],
        [
         "2009-11-07 00:00:00",
         "181.8"
        ],
        [
         "2009-12-08 00:00:00",
         "191.2"
        ],
        [
         "2010-01-01 00:00:00",
         "100.8"
        ],
        [
         "2010-02-01 00:00:00",
         "265.6"
        ],
        [
         "2010-03-04 00:00:00",
         "212.6"
        ],
        [
         "2010-04-04 00:00:00",
         "144.8"
        ],
        [
         "2010-05-05 00:00:00",
         "70.0"
        ],
        [
         "2010-06-05 00:00:00",
         "34.4"
        ],
        [
         "2010-07-06 00:00:00",
         "17.2"
        ],
        [
         "2010-08-06 00:00:00",
         "25.2"
        ],
        [
         "2010-09-06 00:00:00",
         "42.2"
        ],
        [
         "2010-10-07 00:00:00",
         "84.6"
        ],
        [
         "2010-11-07 00:00:00",
         "124.0"
        ],
        [
         "2010-12-08 00:00:00",
         "147.2"
        ]
       ],
       "shape": {
        "columns": 1,
        "rows": 24
       }
      },
      "text/html": [
       "<div>\n",
       "<style scoped>\n",
       "    .dataframe tbody tr th:only-of-type {\n",
       "        vertical-align: middle;\n",
       "    }\n",
       "\n",
       "    .dataframe tbody tr th {\n",
       "        vertical-align: top;\n",
       "    }\n",
       "\n",
       "    .dataframe thead th {\n",
       "        text-align: right;\n",
       "    }\n",
       "</style>\n",
       "<table border=\"1\" class=\"dataframe\">\n",
       "  <thead>\n",
       "    <tr style=\"text-align: right;\">\n",
       "      <th></th>\n",
       "      <th>ET0_mm</th>\n",
       "    </tr>\n",
       "    <tr>\n",
       "      <th>Date</th>\n",
       "      <th></th>\n",
       "    </tr>\n",
       "  </thead>\n",
       "  <tbody>\n",
       "    <tr>\n",
       "      <th>2009-01-01</th>\n",
       "      <td>92.0</td>\n",
       "    </tr>\n",
       "    <tr>\n",
       "      <th>2009-02-01</th>\n",
       "      <td>286.4</td>\n",
       "    </tr>\n",
       "    <tr>\n",
       "      <th>2009-03-04</th>\n",
       "      <td>239.4</td>\n",
       "    </tr>\n",
       "    <tr>\n",
       "      <th>2009-04-04</th>\n",
       "      <td>147.0</td>\n",
       "    </tr>\n",
       "    <tr>\n",
       "      <th>2009-05-05</th>\n",
       "      <td>120.4</td>\n",
       "    </tr>\n",
       "    <tr>\n",
       "      <th>2009-06-05</th>\n",
       "      <td>41.6</td>\n",
       "    </tr>\n",
       "    <tr>\n",
       "      <th>2009-07-06</th>\n",
       "      <td>28.2</td>\n",
       "    </tr>\n",
       "    <tr>\n",
       "      <th>2009-08-06</th>\n",
       "      <td>27.8</td>\n",
       "    </tr>\n",
       "    <tr>\n",
       "      <th>2009-09-06</th>\n",
       "      <td>56.6</td>\n",
       "    </tr>\n",
       "    <tr>\n",
       "      <th>2009-10-07</th>\n",
       "      <td>80.6</td>\n",
       "    </tr>\n",
       "    <tr>\n",
       "      <th>2009-11-07</th>\n",
       "      <td>181.8</td>\n",
       "    </tr>\n",
       "    <tr>\n",
       "      <th>2009-12-08</th>\n",
       "      <td>191.2</td>\n",
       "    </tr>\n",
       "    <tr>\n",
       "      <th>2010-01-01</th>\n",
       "      <td>100.8</td>\n",
       "    </tr>\n",
       "    <tr>\n",
       "      <th>2010-02-01</th>\n",
       "      <td>265.6</td>\n",
       "    </tr>\n",
       "    <tr>\n",
       "      <th>2010-03-04</th>\n",
       "      <td>212.6</td>\n",
       "    </tr>\n",
       "    <tr>\n",
       "      <th>2010-04-04</th>\n",
       "      <td>144.8</td>\n",
       "    </tr>\n",
       "    <tr>\n",
       "      <th>2010-05-05</th>\n",
       "      <td>70.0</td>\n",
       "    </tr>\n",
       "    <tr>\n",
       "      <th>2010-06-05</th>\n",
       "      <td>34.4</td>\n",
       "    </tr>\n",
       "    <tr>\n",
       "      <th>2010-07-06</th>\n",
       "      <td>17.2</td>\n",
       "    </tr>\n",
       "    <tr>\n",
       "      <th>2010-08-06</th>\n",
       "      <td>25.2</td>\n",
       "    </tr>\n",
       "    <tr>\n",
       "      <th>2010-09-06</th>\n",
       "      <td>42.2</td>\n",
       "    </tr>\n",
       "    <tr>\n",
       "      <th>2010-10-07</th>\n",
       "      <td>84.6</td>\n",
       "    </tr>\n",
       "    <tr>\n",
       "      <th>2010-11-07</th>\n",
       "      <td>124.0</td>\n",
       "    </tr>\n",
       "    <tr>\n",
       "      <th>2010-12-08</th>\n",
       "      <td>147.2</td>\n",
       "    </tr>\n",
       "  </tbody>\n",
       "</table>\n",
       "</div>"
      ],
      "text/plain": [
       "            ET0_mm\n",
       "Date              \n",
       "2009-01-01    92.0\n",
       "2009-02-01   286.4\n",
       "2009-03-04   239.4\n",
       "2009-04-04   147.0\n",
       "2009-05-05   120.4\n",
       "2009-06-05    41.6\n",
       "2009-07-06    28.2\n",
       "2009-08-06    27.8\n",
       "2009-09-06    56.6\n",
       "2009-10-07    80.6\n",
       "2009-11-07   181.8\n",
       "2009-12-08   191.2\n",
       "2010-01-01   100.8\n",
       "2010-02-01   265.6\n",
       "2010-03-04   212.6\n",
       "2010-04-04   144.8\n",
       "2010-05-05    70.0\n",
       "2010-06-05    34.4\n",
       "2010-07-06    17.2\n",
       "2010-08-06    25.2\n",
       "2010-09-06    42.2\n",
       "2010-10-07    84.6\n",
       "2010-11-07   124.0\n",
       "2010-12-08   147.2"
      ]
     },
     "execution_count": 21,
     "metadata": {},
     "output_type": "execute_result"
    }
   ],
   "source": [
    "data['2009' : '2010']"
   ]
  },
  {
   "cell_type": "markdown",
   "id": "a1b221e9",
   "metadata": {},
   "source": [
    "## Resampling and  Grouping\n",
    "\n",
    "**Resampling :** Agrupar dados com base em intervalos de tempos ( por dia, mes, hora), desde que o **índice** do dataframe seja uma coluna *datetime*.\n",
    "\n",
    "-> precisamos do datetime"
   ]
  },
  {
   "cell_type": "code",
   "execution_count": 22,
   "id": "aa880ffd",
   "metadata": {},
   "outputs": [
    {
     "name": "stdout",
     "output_type": "stream",
     "text": [
      "            vendas\n",
      "data              \n",
      "2024-01-31     210\n"
     ]
    },
    {
     "name": "stderr",
     "output_type": "stream",
     "text": [
      "C:\\Users\\vish8\\AppData\\Local\\Temp\\ipykernel_17100\\524939283.py:6: FutureWarning: 'M' is deprecated and will be removed in a future version, please use 'ME' instead.\n",
      "  mensal = df.resample('M').sum() # 'M' = mensal\n"
     ]
    }
   ],
   "source": [
    "df = pd.DataFrame({\n",
    "    'data': pd.date_range('2024-01-01', periods=6, freq = 'D'),\n",
    "    'vendas' : [10,20,30,40,50,60],\n",
    "})\n",
    "df = df.set_index('data')\n",
    "mensal = df.resample('M').sum() # 'M' = mensal\n",
    "print(mensal)"
   ]
  },
  {
   "cell_type": "markdown",
   "id": "812f73f2",
   "metadata": {},
   "source": [
    "**Grupby :**\n",
    "Agrupar dados com base em valores de uma ou mais colunas(ex: grupo, cidade, produto, categoria)"
   ]
  },
  {
   "cell_type": "code",
   "execution_count": 23,
   "id": "043a0155",
   "metadata": {},
   "outputs": [
    {
     "name": "stdout",
     "output_type": "stream",
     "text": [
      "cidade\n",
      "MG     80\n",
      "RJ    320\n",
      "SP    250\n",
      "Name: vendas, dtype: int64\n"
     ]
    }
   ],
   "source": [
    "df = pd.DataFrame({\n",
    "    'cidade': ['SP', 'SP', 'RJ', 'RJ', 'MG'],\n",
    "    'vendas': [100, 150, 200, 120, 80]\n",
    "})\n",
    "\n",
    "agrupado = df.groupby('cidade')['vendas'].sum()\n",
    "print(agrupado)"
   ]
  },
  {
   "cell_type": "code",
   "execution_count": null,
   "id": "be7784ee",
   "metadata": {},
   "outputs": [],
   "source": []
  },
  {
   "cell_type": "markdown",
   "id": "3247aff7",
   "metadata": {},
   "source": [
    "## Continuação do código"
   ]
  },
  {
   "cell_type": "markdown",
   "id": "b00b5792",
   "metadata": {},
   "source": [
    "Podemos 'resamplear' os dados de forma temporaria. Por exemplo, 'resamplear' por dia. Podemos criar dados sequenciais que nao tinham no dataset original"
   ]
  },
  {
   "cell_type": "code",
   "execution_count": 24,
   "id": "a0f50491",
   "metadata": {},
   "outputs": [
    {
     "data": {
      "application/vnd.microsoft.datawrangler.viewer.v0+json": {
       "columns": [
        {
         "name": "Date",
         "rawType": "datetime64[ns]",
         "type": "datetime"
        },
        {
         "name": "ET0_mm",
         "rawType": "float64",
         "type": "float"
        }
       ],
       "ref": "5a16253d-6932-495c-92bd-6d1f9712997a",
       "rows": [
        [
         "1990-02-01 00:00:00",
         "229.1"
        ],
        [
         "1990-02-02 00:00:00",
         null
        ],
        [
         "1990-02-03 00:00:00",
         null
        ],
        [
         "1990-02-04 00:00:00",
         null
        ],
        [
         "1990-02-05 00:00:00",
         null
        ],
        [
         "1990-02-06 00:00:00",
         null
        ],
        [
         "1990-02-07 00:00:00",
         null
        ],
        [
         "1990-02-08 00:00:00",
         null
        ],
        [
         "1990-02-09 00:00:00",
         null
        ],
        [
         "1990-02-10 00:00:00",
         null
        ],
        [
         "1990-02-11 00:00:00",
         null
        ],
        [
         "1990-02-12 00:00:00",
         null
        ],
        [
         "1990-02-13 00:00:00",
         null
        ],
        [
         "1990-02-14 00:00:00",
         null
        ],
        [
         "1990-02-15 00:00:00",
         null
        ],
        [
         "1990-02-16 00:00:00",
         null
        ],
        [
         "1990-02-17 00:00:00",
         null
        ],
        [
         "1990-02-18 00:00:00",
         null
        ],
        [
         "1990-02-19 00:00:00",
         null
        ],
        [
         "1990-02-20 00:00:00",
         null
        ],
        [
         "1990-02-21 00:00:00",
         null
        ],
        [
         "1990-02-22 00:00:00",
         null
        ],
        [
         "1990-02-23 00:00:00",
         null
        ],
        [
         "1990-02-24 00:00:00",
         null
        ],
        [
         "1990-02-25 00:00:00",
         null
        ],
        [
         "1990-02-26 00:00:00",
         null
        ],
        [
         "1990-02-27 00:00:00",
         null
        ],
        [
         "1990-02-28 00:00:00",
         null
        ],
        [
         "1990-03-01 00:00:00",
         null
        ],
        [
         "1990-03-02 00:00:00",
         null
        ],
        [
         "1990-03-03 00:00:00",
         null
        ],
        [
         "1990-03-04 00:00:00",
         "155.9"
        ],
        [
         "1990-03-05 00:00:00",
         null
        ],
        [
         "1990-03-06 00:00:00",
         null
        ],
        [
         "1990-03-07 00:00:00",
         null
        ],
        [
         "1990-03-08 00:00:00",
         null
        ],
        [
         "1990-03-09 00:00:00",
         null
        ],
        [
         "1990-03-10 00:00:00",
         null
        ],
        [
         "1990-03-11 00:00:00",
         null
        ],
        [
         "1990-03-12 00:00:00",
         null
        ],
        [
         "1990-03-13 00:00:00",
         null
        ],
        [
         "1990-03-14 00:00:00",
         null
        ],
        [
         "1990-03-15 00:00:00",
         null
        ],
        [
         "1990-03-16 00:00:00",
         null
        ],
        [
         "1990-03-17 00:00:00",
         null
        ],
        [
         "1990-03-18 00:00:00",
         null
        ],
        [
         "1990-03-19 00:00:00",
         null
        ],
        [
         "1990-03-20 00:00:00",
         null
        ],
        [
         "1990-03-21 00:00:00",
         null
        ],
        [
         "1990-03-22 00:00:00",
         null
        ]
       ],
       "shape": {
        "columns": 1,
        "rows": 11293
       }
      },
      "text/html": [
       "<div>\n",
       "<style scoped>\n",
       "    .dataframe tbody tr th:only-of-type {\n",
       "        vertical-align: middle;\n",
       "    }\n",
       "\n",
       "    .dataframe tbody tr th {\n",
       "        vertical-align: top;\n",
       "    }\n",
       "\n",
       "    .dataframe thead th {\n",
       "        text-align: right;\n",
       "    }\n",
       "</style>\n",
       "<table border=\"1\" class=\"dataframe\">\n",
       "  <thead>\n",
       "    <tr style=\"text-align: right;\">\n",
       "      <th></th>\n",
       "      <th>ET0_mm</th>\n",
       "    </tr>\n",
       "    <tr>\n",
       "      <th>Date</th>\n",
       "      <th></th>\n",
       "    </tr>\n",
       "  </thead>\n",
       "  <tbody>\n",
       "    <tr>\n",
       "      <th>1990-02-01</th>\n",
       "      <td>229.1</td>\n",
       "    </tr>\n",
       "    <tr>\n",
       "      <th>1990-02-02</th>\n",
       "      <td>NaN</td>\n",
       "    </tr>\n",
       "    <tr>\n",
       "      <th>1990-02-03</th>\n",
       "      <td>NaN</td>\n",
       "    </tr>\n",
       "    <tr>\n",
       "      <th>1990-02-04</th>\n",
       "      <td>NaN</td>\n",
       "    </tr>\n",
       "    <tr>\n",
       "      <th>1990-02-05</th>\n",
       "      <td>NaN</td>\n",
       "    </tr>\n",
       "    <tr>\n",
       "      <th>...</th>\n",
       "      <td>...</td>\n",
       "    </tr>\n",
       "    <tr>\n",
       "      <th>2020-12-28</th>\n",
       "      <td>NaN</td>\n",
       "    </tr>\n",
       "    <tr>\n",
       "      <th>2020-12-29</th>\n",
       "      <td>NaN</td>\n",
       "    </tr>\n",
       "    <tr>\n",
       "      <th>2020-12-30</th>\n",
       "      <td>NaN</td>\n",
       "    </tr>\n",
       "    <tr>\n",
       "      <th>2020-12-31</th>\n",
       "      <td>NaN</td>\n",
       "    </tr>\n",
       "    <tr>\n",
       "      <th>2021-01-01</th>\n",
       "      <td>98.4</td>\n",
       "    </tr>\n",
       "  </tbody>\n",
       "</table>\n",
       "<p>11293 rows × 1 columns</p>\n",
       "</div>"
      ],
      "text/plain": [
       "            ET0_mm\n",
       "Date              \n",
       "1990-02-01   229.1\n",
       "1990-02-02     NaN\n",
       "1990-02-03     NaN\n",
       "1990-02-04     NaN\n",
       "1990-02-05     NaN\n",
       "...            ...\n",
       "2020-12-28     NaN\n",
       "2020-12-29     NaN\n",
       "2020-12-30     NaN\n",
       "2020-12-31     NaN\n",
       "2021-01-01    98.4\n",
       "\n",
       "[11293 rows x 1 columns]"
      ]
     },
     "execution_count": 24,
     "metadata": {},
     "output_type": "execute_result"
    }
   ],
   "source": [
    "res_data = data.resample('D').asfreq() #Resampleando por dia\n",
    "res_data"
   ]
  },
  {
   "cell_type": "code",
   "execution_count": 26,
   "id": "e37c646b",
   "metadata": {},
   "outputs": [
    {
     "name": "stderr",
     "output_type": "stream",
     "text": [
      "C:\\Users\\vish8\\AppData\\Local\\Temp\\ipykernel_17100\\3691489019.py:3: FutureWarning: 'Y' is deprecated and will be removed in a future version, please use 'YE' instead.\n",
      "  res_data = data.resample('Y').sum()\n"
     ]
    },
    {
     "data": {
      "application/vnd.microsoft.datawrangler.viewer.v0+json": {
       "columns": [
        {
         "name": "Date",
         "rawType": "datetime64[ns]",
         "type": "datetime"
        },
        {
         "name": "ET0_mm",
         "rawType": "float64",
         "type": "float"
        }
       ],
       "ref": "a584ef5e-cb88-48cf-9339-f153594cb1a8",
       "rows": [
        [
         "1990-12-31 00:00:00",
         "1267.2"
        ],
        [
         "1991-12-31 00:00:00",
         "1423.5"
        ],
        [
         "1992-12-31 00:00:00",
         "1239.4"
        ],
        [
         "1993-12-31 00:00:00",
         "1199.0"
        ],
        [
         "1994-12-31 00:00:00",
         "1366.0"
        ],
        [
         "1995-12-31 00:00:00",
         "1325.8"
        ],
        [
         "1996-12-31 00:00:00",
         "1247.8"
        ],
        [
         "1997-12-31 00:00:00",
         "1439.2"
        ],
        [
         "1998-12-31 00:00:00",
         "1429.4"
        ],
        [
         "1999-12-31 00:00:00",
         "1299.1"
        ],
        [
         "2000-12-31 00:00:00",
         "1274.2"
        ],
        [
         "2001-12-31 00:00:00",
         "1326.5"
        ],
        [
         "2002-12-31 00:00:00",
         "1530.7"
        ],
        [
         "2003-12-31 00:00:00",
         "1407.4"
        ],
        [
         "2004-12-31 00:00:00",
         "1333.8"
        ],
        [
         "2005-12-31 00:00:00",
         "1326.6"
        ],
        [
         "2006-12-31 00:00:00",
         "1542.3999999999999"
        ],
        [
         "2007-12-31 00:00:00",
         "1527.8"
        ],
        [
         "2008-12-31 00:00:00",
         "1401.2"
        ],
        [
         "2009-12-31 00:00:00",
         "1493.0"
        ],
        [
         "2010-12-31 00:00:00",
         "1268.6"
        ],
        [
         "2011-12-31 00:00:00",
         "1190.8"
        ],
        [
         "2012-12-31 00:00:00",
         "1231.8"
        ],
        [
         "2013-12-31 00:00:00",
         "956.4"
        ],
        [
         "2014-12-31 00:00:00",
         "1425.0"
        ],
        [
         "2015-12-31 00:00:00",
         "1347.3999999999999"
        ],
        [
         "2016-12-31 00:00:00",
         "1274.8"
        ],
        [
         "2017-12-31 00:00:00",
         "1240.6"
        ],
        [
         "2018-12-31 00:00:00",
         "1385.6"
        ],
        [
         "2019-12-31 00:00:00",
         "1411.1999999999998"
        ],
        [
         "2020-12-31 00:00:00",
         "1264.2"
        ],
        [
         "2021-12-31 00:00:00",
         "98.4"
        ]
       ],
       "shape": {
        "columns": 1,
        "rows": 32
       }
      },
      "text/html": [
       "<div>\n",
       "<style scoped>\n",
       "    .dataframe tbody tr th:only-of-type {\n",
       "        vertical-align: middle;\n",
       "    }\n",
       "\n",
       "    .dataframe tbody tr th {\n",
       "        vertical-align: top;\n",
       "    }\n",
       "\n",
       "    .dataframe thead th {\n",
       "        text-align: right;\n",
       "    }\n",
       "</style>\n",
       "<table border=\"1\" class=\"dataframe\">\n",
       "  <thead>\n",
       "    <tr style=\"text-align: right;\">\n",
       "      <th></th>\n",
       "      <th>ET0_mm</th>\n",
       "    </tr>\n",
       "    <tr>\n",
       "      <th>Date</th>\n",
       "      <th></th>\n",
       "    </tr>\n",
       "  </thead>\n",
       "  <tbody>\n",
       "    <tr>\n",
       "      <th>1990-12-31</th>\n",
       "      <td>1267.2</td>\n",
       "    </tr>\n",
       "    <tr>\n",
       "      <th>1991-12-31</th>\n",
       "      <td>1423.5</td>\n",
       "    </tr>\n",
       "    <tr>\n",
       "      <th>1992-12-31</th>\n",
       "      <td>1239.4</td>\n",
       "    </tr>\n",
       "    <tr>\n",
       "      <th>1993-12-31</th>\n",
       "      <td>1199.0</td>\n",
       "    </tr>\n",
       "    <tr>\n",
       "      <th>1994-12-31</th>\n",
       "      <td>1366.0</td>\n",
       "    </tr>\n",
       "    <tr>\n",
       "      <th>1995-12-31</th>\n",
       "      <td>1325.8</td>\n",
       "    </tr>\n",
       "    <tr>\n",
       "      <th>1996-12-31</th>\n",
       "      <td>1247.8</td>\n",
       "    </tr>\n",
       "    <tr>\n",
       "      <th>1997-12-31</th>\n",
       "      <td>1439.2</td>\n",
       "    </tr>\n",
       "    <tr>\n",
       "      <th>1998-12-31</th>\n",
       "      <td>1429.4</td>\n",
       "    </tr>\n",
       "    <tr>\n",
       "      <th>1999-12-31</th>\n",
       "      <td>1299.1</td>\n",
       "    </tr>\n",
       "    <tr>\n",
       "      <th>2000-12-31</th>\n",
       "      <td>1274.2</td>\n",
       "    </tr>\n",
       "    <tr>\n",
       "      <th>2001-12-31</th>\n",
       "      <td>1326.5</td>\n",
       "    </tr>\n",
       "    <tr>\n",
       "      <th>2002-12-31</th>\n",
       "      <td>1530.7</td>\n",
       "    </tr>\n",
       "    <tr>\n",
       "      <th>2003-12-31</th>\n",
       "      <td>1407.4</td>\n",
       "    </tr>\n",
       "    <tr>\n",
       "      <th>2004-12-31</th>\n",
       "      <td>1333.8</td>\n",
       "    </tr>\n",
       "    <tr>\n",
       "      <th>2005-12-31</th>\n",
       "      <td>1326.6</td>\n",
       "    </tr>\n",
       "    <tr>\n",
       "      <th>2006-12-31</th>\n",
       "      <td>1542.4</td>\n",
       "    </tr>\n",
       "    <tr>\n",
       "      <th>2007-12-31</th>\n",
       "      <td>1527.8</td>\n",
       "    </tr>\n",
       "    <tr>\n",
       "      <th>2008-12-31</th>\n",
       "      <td>1401.2</td>\n",
       "    </tr>\n",
       "    <tr>\n",
       "      <th>2009-12-31</th>\n",
       "      <td>1493.0</td>\n",
       "    </tr>\n",
       "    <tr>\n",
       "      <th>2010-12-31</th>\n",
       "      <td>1268.6</td>\n",
       "    </tr>\n",
       "    <tr>\n",
       "      <th>2011-12-31</th>\n",
       "      <td>1190.8</td>\n",
       "    </tr>\n",
       "    <tr>\n",
       "      <th>2012-12-31</th>\n",
       "      <td>1231.8</td>\n",
       "    </tr>\n",
       "    <tr>\n",
       "      <th>2013-12-31</th>\n",
       "      <td>956.4</td>\n",
       "    </tr>\n",
       "    <tr>\n",
       "      <th>2014-12-31</th>\n",
       "      <td>1425.0</td>\n",
       "    </tr>\n",
       "    <tr>\n",
       "      <th>2015-12-31</th>\n",
       "      <td>1347.4</td>\n",
       "    </tr>\n",
       "    <tr>\n",
       "      <th>2016-12-31</th>\n",
       "      <td>1274.8</td>\n",
       "    </tr>\n",
       "    <tr>\n",
       "      <th>2017-12-31</th>\n",
       "      <td>1240.6</td>\n",
       "    </tr>\n",
       "    <tr>\n",
       "      <th>2018-12-31</th>\n",
       "      <td>1385.6</td>\n",
       "    </tr>\n",
       "    <tr>\n",
       "      <th>2019-12-31</th>\n",
       "      <td>1411.2</td>\n",
       "    </tr>\n",
       "    <tr>\n",
       "      <th>2020-12-31</th>\n",
       "      <td>1264.2</td>\n",
       "    </tr>\n",
       "    <tr>\n",
       "      <th>2021-12-31</th>\n",
       "      <td>98.4</td>\n",
       "    </tr>\n",
       "  </tbody>\n",
       "</table>\n",
       "</div>"
      ],
      "text/plain": [
       "            ET0_mm\n",
       "Date              \n",
       "1990-12-31  1267.2\n",
       "1991-12-31  1423.5\n",
       "1992-12-31  1239.4\n",
       "1993-12-31  1199.0\n",
       "1994-12-31  1366.0\n",
       "1995-12-31  1325.8\n",
       "1996-12-31  1247.8\n",
       "1997-12-31  1439.2\n",
       "1998-12-31  1429.4\n",
       "1999-12-31  1299.1\n",
       "2000-12-31  1274.2\n",
       "2001-12-31  1326.5\n",
       "2002-12-31  1530.7\n",
       "2003-12-31  1407.4\n",
       "2004-12-31  1333.8\n",
       "2005-12-31  1326.6\n",
       "2006-12-31  1542.4\n",
       "2007-12-31  1527.8\n",
       "2008-12-31  1401.2\n",
       "2009-12-31  1493.0\n",
       "2010-12-31  1268.6\n",
       "2011-12-31  1190.8\n",
       "2012-12-31  1231.8\n",
       "2013-12-31   956.4\n",
       "2014-12-31  1425.0\n",
       "2015-12-31  1347.4\n",
       "2016-12-31  1274.8\n",
       "2017-12-31  1240.6\n",
       "2018-12-31  1385.6\n",
       "2019-12-31  1411.2\n",
       "2020-12-31  1264.2\n",
       "2021-12-31    98.4"
      ]
     },
     "execution_count": 26,
     "metadata": {},
     "output_type": "execute_result"
    }
   ],
   "source": [
    "#Tambem podemos aplicar o resample em um função do ano\n",
    "\n",
    "res_data = data.resample('Y').sum()\n",
    "res_data  # Resampleando por ano"
   ]
  },
  {
   "cell_type": "code",
   "execution_count": 27,
   "id": "15a88078",
   "metadata": {},
   "outputs": [
    {
     "data": {
      "application/vnd.microsoft.datawrangler.viewer.v0+json": {
       "columns": [
        {
         "name": "Date",
         "rawType": "int32",
         "type": "integer"
        },
        {
         "name": "ET0_mm",
         "rawType": "float64",
         "type": "float"
        }
       ],
       "ref": "4e4a255b-2916-4ec5-8264-16569b5c5a70",
       "rows": [
        [
         "1990",
         "1267.2"
        ],
        [
         "1991",
         "1423.5"
        ],
        [
         "1992",
         "1239.4"
        ],
        [
         "1993",
         "1199.0"
        ],
        [
         "1994",
         "1366.0"
        ],
        [
         "1995",
         "1325.8"
        ],
        [
         "1996",
         "1247.8"
        ],
        [
         "1997",
         "1439.2"
        ],
        [
         "1998",
         "1429.4"
        ],
        [
         "1999",
         "1299.1"
        ],
        [
         "2000",
         "1274.2"
        ],
        [
         "2001",
         "1326.5"
        ],
        [
         "2002",
         "1530.7"
        ],
        [
         "2003",
         "1407.4"
        ],
        [
         "2004",
         "1333.8"
        ],
        [
         "2005",
         "1326.6"
        ],
        [
         "2006",
         "1542.3999999999999"
        ],
        [
         "2007",
         "1527.8"
        ],
        [
         "2008",
         "1401.2"
        ],
        [
         "2009",
         "1493.0"
        ],
        [
         "2010",
         "1268.6"
        ],
        [
         "2011",
         "1190.8"
        ],
        [
         "2012",
         "1231.8"
        ],
        [
         "2013",
         "956.4"
        ],
        [
         "2014",
         "1425.0"
        ],
        [
         "2015",
         "1347.3999999999999"
        ],
        [
         "2016",
         "1274.8"
        ],
        [
         "2017",
         "1240.6"
        ],
        [
         "2018",
         "1385.6"
        ],
        [
         "2019",
         "1411.1999999999998"
        ],
        [
         "2020",
         "1264.2"
        ],
        [
         "2021",
         "98.4"
        ]
       ],
       "shape": {
        "columns": 1,
        "rows": 32
       }
      },
      "text/html": [
       "<div>\n",
       "<style scoped>\n",
       "    .dataframe tbody tr th:only-of-type {\n",
       "        vertical-align: middle;\n",
       "    }\n",
       "\n",
       "    .dataframe tbody tr th {\n",
       "        vertical-align: top;\n",
       "    }\n",
       "\n",
       "    .dataframe thead th {\n",
       "        text-align: right;\n",
       "    }\n",
       "</style>\n",
       "<table border=\"1\" class=\"dataframe\">\n",
       "  <thead>\n",
       "    <tr style=\"text-align: right;\">\n",
       "      <th></th>\n",
       "      <th>ET0_mm</th>\n",
       "    </tr>\n",
       "    <tr>\n",
       "      <th>Date</th>\n",
       "      <th></th>\n",
       "    </tr>\n",
       "  </thead>\n",
       "  <tbody>\n",
       "    <tr>\n",
       "      <th>1990</th>\n",
       "      <td>1267.2</td>\n",
       "    </tr>\n",
       "    <tr>\n",
       "      <th>1991</th>\n",
       "      <td>1423.5</td>\n",
       "    </tr>\n",
       "    <tr>\n",
       "      <th>1992</th>\n",
       "      <td>1239.4</td>\n",
       "    </tr>\n",
       "    <tr>\n",
       "      <th>1993</th>\n",
       "      <td>1199.0</td>\n",
       "    </tr>\n",
       "    <tr>\n",
       "      <th>1994</th>\n",
       "      <td>1366.0</td>\n",
       "    </tr>\n",
       "    <tr>\n",
       "      <th>1995</th>\n",
       "      <td>1325.8</td>\n",
       "    </tr>\n",
       "    <tr>\n",
       "      <th>1996</th>\n",
       "      <td>1247.8</td>\n",
       "    </tr>\n",
       "    <tr>\n",
       "      <th>1997</th>\n",
       "      <td>1439.2</td>\n",
       "    </tr>\n",
       "    <tr>\n",
       "      <th>1998</th>\n",
       "      <td>1429.4</td>\n",
       "    </tr>\n",
       "    <tr>\n",
       "      <th>1999</th>\n",
       "      <td>1299.1</td>\n",
       "    </tr>\n",
       "    <tr>\n",
       "      <th>2000</th>\n",
       "      <td>1274.2</td>\n",
       "    </tr>\n",
       "    <tr>\n",
       "      <th>2001</th>\n",
       "      <td>1326.5</td>\n",
       "    </tr>\n",
       "    <tr>\n",
       "      <th>2002</th>\n",
       "      <td>1530.7</td>\n",
       "    </tr>\n",
       "    <tr>\n",
       "      <th>2003</th>\n",
       "      <td>1407.4</td>\n",
       "    </tr>\n",
       "    <tr>\n",
       "      <th>2004</th>\n",
       "      <td>1333.8</td>\n",
       "    </tr>\n",
       "    <tr>\n",
       "      <th>2005</th>\n",
       "      <td>1326.6</td>\n",
       "    </tr>\n",
       "    <tr>\n",
       "      <th>2006</th>\n",
       "      <td>1542.4</td>\n",
       "    </tr>\n",
       "    <tr>\n",
       "      <th>2007</th>\n",
       "      <td>1527.8</td>\n",
       "    </tr>\n",
       "    <tr>\n",
       "      <th>2008</th>\n",
       "      <td>1401.2</td>\n",
       "    </tr>\n",
       "    <tr>\n",
       "      <th>2009</th>\n",
       "      <td>1493.0</td>\n",
       "    </tr>\n",
       "    <tr>\n",
       "      <th>2010</th>\n",
       "      <td>1268.6</td>\n",
       "    </tr>\n",
       "    <tr>\n",
       "      <th>2011</th>\n",
       "      <td>1190.8</td>\n",
       "    </tr>\n",
       "    <tr>\n",
       "      <th>2012</th>\n",
       "      <td>1231.8</td>\n",
       "    </tr>\n",
       "    <tr>\n",
       "      <th>2013</th>\n",
       "      <td>956.4</td>\n",
       "    </tr>\n",
       "    <tr>\n",
       "      <th>2014</th>\n",
       "      <td>1425.0</td>\n",
       "    </tr>\n",
       "    <tr>\n",
       "      <th>2015</th>\n",
       "      <td>1347.4</td>\n",
       "    </tr>\n",
       "    <tr>\n",
       "      <th>2016</th>\n",
       "      <td>1274.8</td>\n",
       "    </tr>\n",
       "    <tr>\n",
       "      <th>2017</th>\n",
       "      <td>1240.6</td>\n",
       "    </tr>\n",
       "    <tr>\n",
       "      <th>2018</th>\n",
       "      <td>1385.6</td>\n",
       "    </tr>\n",
       "    <tr>\n",
       "      <th>2019</th>\n",
       "      <td>1411.2</td>\n",
       "    </tr>\n",
       "    <tr>\n",
       "      <th>2020</th>\n",
       "      <td>1264.2</td>\n",
       "    </tr>\n",
       "    <tr>\n",
       "      <th>2021</th>\n",
       "      <td>98.4</td>\n",
       "    </tr>\n",
       "  </tbody>\n",
       "</table>\n",
       "</div>"
      ],
      "text/plain": [
       "      ET0_mm\n",
       "Date        \n",
       "1990  1267.2\n",
       "1991  1423.5\n",
       "1992  1239.4\n",
       "1993  1199.0\n",
       "1994  1366.0\n",
       "1995  1325.8\n",
       "1996  1247.8\n",
       "1997  1439.2\n",
       "1998  1429.4\n",
       "1999  1299.1\n",
       "2000  1274.2\n",
       "2001  1326.5\n",
       "2002  1530.7\n",
       "2003  1407.4\n",
       "2004  1333.8\n",
       "2005  1326.6\n",
       "2006  1542.4\n",
       "2007  1527.8\n",
       "2008  1401.2\n",
       "2009  1493.0\n",
       "2010  1268.6\n",
       "2011  1190.8\n",
       "2012  1231.8\n",
       "2013   956.4\n",
       "2014  1425.0\n",
       "2015  1347.4\n",
       "2016  1274.8\n",
       "2017  1240.6\n",
       "2018  1385.6\n",
       "2019  1411.2\n",
       "2020  1264.2\n",
       "2021    98.4"
      ]
     },
     "execution_count": 27,
     "metadata": {},
     "output_type": "execute_result"
    }
   ],
   "source": [
    "#Podemos tambem definir o ano como o índice do dataframe\n",
    "res_data.index = res_data.index.year\n",
    "res_data"
   ]
  },
  {
   "cell_type": "code",
   "execution_count": 28,
   "id": "90987334",
   "metadata": {},
   "outputs": [
    {
     "data": {
      "application/vnd.microsoft.datawrangler.viewer.v0+json": {
       "columns": [
        {
         "name": "Date",
         "rawType": "int64",
         "type": "integer"
        },
        {
         "name": "ET0_mm",
         "rawType": "float64",
         "type": "float"
        }
       ],
       "ref": "da44692a-6df6-4e34-9b22-519332dcc453",
       "rows": [
        [
         "1",
         "93.75483870967743"
        ],
        [
         "2",
         "226.42903225806452"
        ],
        [
         "3",
         "203.91612903225806"
        ],
        [
         "4",
         "143.83225806451614"
        ],
        [
         "5",
         "79.1774193548387"
        ],
        [
         "6",
         "35.3"
        ],
        [
         "7",
         "25.474193548387095"
        ],
        [
         "8",
         "31.70967741935484"
        ],
        [
         "9",
         "54.47096774193548"
        ],
        [
         "10",
         "93.75161290322582"
        ],
        [
         "11",
         "150.8290322580645"
        ],
        [
         "12",
         "199.8967741935484"
        ]
       ],
       "shape": {
        "columns": 1,
        "rows": 12
       }
      },
      "text/html": [
       "<div>\n",
       "<style scoped>\n",
       "    .dataframe tbody tr th:only-of-type {\n",
       "        vertical-align: middle;\n",
       "    }\n",
       "\n",
       "    .dataframe tbody tr th {\n",
       "        vertical-align: top;\n",
       "    }\n",
       "\n",
       "    .dataframe thead th {\n",
       "        text-align: right;\n",
       "    }\n",
       "</style>\n",
       "<table border=\"1\" class=\"dataframe\">\n",
       "  <thead>\n",
       "    <tr style=\"text-align: right;\">\n",
       "      <th></th>\n",
       "      <th>ET0_mm</th>\n",
       "    </tr>\n",
       "    <tr>\n",
       "      <th>Date</th>\n",
       "      <th></th>\n",
       "    </tr>\n",
       "  </thead>\n",
       "  <tbody>\n",
       "    <tr>\n",
       "      <th>1</th>\n",
       "      <td>93.754839</td>\n",
       "    </tr>\n",
       "    <tr>\n",
       "      <th>2</th>\n",
       "      <td>226.429032</td>\n",
       "    </tr>\n",
       "    <tr>\n",
       "      <th>3</th>\n",
       "      <td>203.916129</td>\n",
       "    </tr>\n",
       "    <tr>\n",
       "      <th>4</th>\n",
       "      <td>143.832258</td>\n",
       "    </tr>\n",
       "    <tr>\n",
       "      <th>5</th>\n",
       "      <td>79.177419</td>\n",
       "    </tr>\n",
       "    <tr>\n",
       "      <th>6</th>\n",
       "      <td>35.300000</td>\n",
       "    </tr>\n",
       "    <tr>\n",
       "      <th>7</th>\n",
       "      <td>25.474194</td>\n",
       "    </tr>\n",
       "    <tr>\n",
       "      <th>8</th>\n",
       "      <td>31.709677</td>\n",
       "    </tr>\n",
       "    <tr>\n",
       "      <th>9</th>\n",
       "      <td>54.470968</td>\n",
       "    </tr>\n",
       "    <tr>\n",
       "      <th>10</th>\n",
       "      <td>93.751613</td>\n",
       "    </tr>\n",
       "    <tr>\n",
       "      <th>11</th>\n",
       "      <td>150.829032</td>\n",
       "    </tr>\n",
       "    <tr>\n",
       "      <th>12</th>\n",
       "      <td>199.896774</td>\n",
       "    </tr>\n",
       "  </tbody>\n",
       "</table>\n",
       "</div>"
      ],
      "text/plain": [
       "          ET0_mm\n",
       "Date            \n",
       "1      93.754839\n",
       "2     226.429032\n",
       "3     203.916129\n",
       "4     143.832258\n",
       "5      79.177419\n",
       "6      35.300000\n",
       "7      25.474194\n",
       "8      31.709677\n",
       "9      54.470968\n",
       "10     93.751613\n",
       "11    150.829032\n",
       "12    199.896774"
      ]
     },
     "execution_count": 28,
     "metadata": {},
     "output_type": "execute_result"
    }
   ],
   "source": [
    "#Podemos tambem agrupar o dataser pelo mês ou ano \n",
    "data.groupby(lambda x: x.month).mean()  # Agrupa por mês e calcula a média"
   ]
  },
  {
   "cell_type": "markdown",
   "id": "388854ea",
   "metadata": {},
   "source": [
    "## Visualizacao dos dados"
   ]
  },
  {
   "cell_type": "code",
   "execution_count": 29,
   "id": "eecbd5a9",
   "metadata": {},
   "outputs": [
    {
     "data": {
      "application/vnd.microsoft.datawrangler.viewer.v0+json": {
       "columns": [
        {
         "name": "Date",
         "rawType": "datetime64[ns]",
         "type": "datetime"
        },
        {
         "name": "ET0_mm",
         "rawType": "float64",
         "type": "float"
        }
       ],
       "ref": "5ca31f77-e0a0-4ed2-877e-eb7e4032dd63",
       "rows": [
        [
         "1990-02-01 00:00:00",
         "229.1"
        ],
        [
         "1990-03-04 00:00:00",
         "155.9"
        ],
        [
         "1990-04-04 00:00:00",
         "167.9"
        ],
        [
         "1990-05-05 00:00:00",
         "81.3"
        ],
        [
         "1990-06-05 00:00:00",
         "40.9"
        ],
        [
         "1990-07-06 00:00:00",
         "31.5"
        ],
        [
         "1990-08-06 00:00:00",
         "39.8"
        ],
        [
         "1990-09-06 00:00:00",
         "58.0"
        ],
        [
         "1990-10-07 00:00:00",
         "88.4"
        ],
        [
         "1990-11-07 00:00:00",
         "158.3"
        ],
        [
         "1990-12-08 00:00:00",
         "216.1"
        ],
        [
         "1991-01-01 00:00:00",
         "95.3"
        ],
        [
         "1991-02-01 00:00:00",
         "242.4"
        ],
        [
         "1991-03-04 00:00:00",
         "222.8"
        ],
        [
         "1991-04-04 00:00:00",
         "146.8"
        ],
        [
         "1991-05-05 00:00:00",
         "87.4"
        ],
        [
         "1991-06-05 00:00:00",
         "49.6"
        ],
        [
         "1991-07-06 00:00:00",
         "30.5"
        ],
        [
         "1991-08-06 00:00:00",
         "34.6"
        ],
        [
         "1991-09-06 00:00:00",
         "59.5"
        ],
        [
         "1991-10-07 00:00:00",
         "91.2"
        ],
        [
         "1991-11-07 00:00:00",
         "158.6"
        ],
        [
         "1991-12-08 00:00:00",
         "204.8"
        ],
        [
         "1992-01-01 00:00:00",
         "93.8"
        ],
        [
         "1992-02-01 00:00:00",
         "206.2"
        ],
        [
         "1992-03-03 00:00:00",
         "202.8"
        ],
        [
         "1992-04-03 00:00:00",
         "149.6"
        ],
        [
         "1992-05-04 00:00:00",
         "85.0"
        ],
        [
         "1992-06-04 00:00:00",
         "44.6"
        ],
        [
         "1992-07-05 00:00:00",
         "29.8"
        ],
        [
         "1992-08-05 00:00:00",
         "26.8"
        ],
        [
         "1992-09-05 00:00:00",
         "51.0"
        ],
        [
         "1992-10-06 00:00:00",
         "77.4"
        ],
        [
         "1992-11-06 00:00:00",
         "127.2"
        ],
        [
         "1992-12-07 00:00:00",
         "145.2"
        ],
        [
         "1993-01-01 00:00:00",
         "61.4"
        ],
        [
         "1993-02-01 00:00:00",
         "191.0"
        ],
        [
         "1993-03-04 00:00:00",
         "176.0"
        ],
        [
         "1993-04-04 00:00:00",
         "120.0"
        ],
        [
         "1993-05-05 00:00:00",
         "75.4"
        ],
        [
         "1993-06-05 00:00:00",
         "35.0"
        ],
        [
         "1993-07-06 00:00:00",
         "33.4"
        ],
        [
         "1993-08-06 00:00:00",
         "34.6"
        ],
        [
         "1993-09-06 00:00:00",
         "58.6"
        ],
        [
         "1993-10-07 00:00:00",
         "92.2"
        ],
        [
         "1993-11-07 00:00:00",
         "119.4"
        ],
        [
         "1993-12-08 00:00:00",
         "202.0"
        ],
        [
         "1994-01-01 00:00:00",
         "63.4"
        ],
        [
         "1994-02-01 00:00:00",
         "218.0"
        ],
        [
         "1994-03-04 00:00:00",
         "199.2"
        ]
       ],
       "shape": {
        "columns": 1,
        "rows": 372
       }
      },
      "text/html": [
       "<div>\n",
       "<style scoped>\n",
       "    .dataframe tbody tr th:only-of-type {\n",
       "        vertical-align: middle;\n",
       "    }\n",
       "\n",
       "    .dataframe tbody tr th {\n",
       "        vertical-align: top;\n",
       "    }\n",
       "\n",
       "    .dataframe thead th {\n",
       "        text-align: right;\n",
       "    }\n",
       "</style>\n",
       "<table border=\"1\" class=\"dataframe\">\n",
       "  <thead>\n",
       "    <tr style=\"text-align: right;\">\n",
       "      <th></th>\n",
       "      <th>ET0_mm</th>\n",
       "    </tr>\n",
       "    <tr>\n",
       "      <th>Date</th>\n",
       "      <th></th>\n",
       "    </tr>\n",
       "  </thead>\n",
       "  <tbody>\n",
       "    <tr>\n",
       "      <th>1990-02-01</th>\n",
       "      <td>229.1</td>\n",
       "    </tr>\n",
       "    <tr>\n",
       "      <th>1990-03-04</th>\n",
       "      <td>155.9</td>\n",
       "    </tr>\n",
       "    <tr>\n",
       "      <th>1990-04-04</th>\n",
       "      <td>167.9</td>\n",
       "    </tr>\n",
       "    <tr>\n",
       "      <th>1990-05-05</th>\n",
       "      <td>81.3</td>\n",
       "    </tr>\n",
       "    <tr>\n",
       "      <th>1990-06-05</th>\n",
       "      <td>40.9</td>\n",
       "    </tr>\n",
       "    <tr>\n",
       "      <th>...</th>\n",
       "      <td>...</td>\n",
       "    </tr>\n",
       "    <tr>\n",
       "      <th>2020-09-05</th>\n",
       "      <td>51.4</td>\n",
       "    </tr>\n",
       "    <tr>\n",
       "      <th>2020-10-06</th>\n",
       "      <td>80.8</td>\n",
       "    </tr>\n",
       "    <tr>\n",
       "      <th>2020-11-06</th>\n",
       "      <td>137.4</td>\n",
       "    </tr>\n",
       "    <tr>\n",
       "      <th>2020-12-07</th>\n",
       "      <td>213.4</td>\n",
       "    </tr>\n",
       "    <tr>\n",
       "      <th>2021-01-01</th>\n",
       "      <td>98.4</td>\n",
       "    </tr>\n",
       "  </tbody>\n",
       "</table>\n",
       "<p>372 rows × 1 columns</p>\n",
       "</div>"
      ],
      "text/plain": [
       "            ET0_mm\n",
       "Date              \n",
       "1990-02-01   229.1\n",
       "1990-03-04   155.9\n",
       "1990-04-04   167.9\n",
       "1990-05-05    81.3\n",
       "1990-06-05    40.9\n",
       "...            ...\n",
       "2020-09-05    51.4\n",
       "2020-10-06    80.8\n",
       "2020-11-06   137.4\n",
       "2020-12-07   213.4\n",
       "2021-01-01    98.4\n",
       "\n",
       "[372 rows x 1 columns]"
      ]
     },
     "execution_count": 29,
     "metadata": {},
     "output_type": "execute_result"
    }
   ],
   "source": [
    "data"
   ]
  },
  {
   "cell_type": "code",
   "execution_count": 32,
   "id": "b4119a4c",
   "metadata": {},
   "outputs": [
    {
     "data": {
      "text/plain": [
       "<Axes: xlabel='Date'>"
      ]
     },
     "execution_count": 32,
     "metadata": {},
     "output_type": "execute_result"
    },
    {
     "data": {
      "image/png": "[encoded data removed]",
      "text/plain": [
       "<Figure size 1500x900 with 1 Axes>"
      ]
     },
     "metadata": {},
     "output_type": "display_data"
    }
   ],
   "source": [
    "import matplotlib as mpl \n",
    "import matplotlib.pyplot as plt\n",
    "import seaborn as sns\n",
    "\n",
    "mpl.rcParams['figure.dpi'] = 150 # Definindo a resolução dos gráficos\n",
    "pd.set_option('display.expand_frame_repr', False)  # Exibe o DataFrame completo no console\n",
    "plt.style.use('ggplot')\n",
    "mpl.rcParams['figure.figsize'] = (10, 6)  # Define o tamanho padrão dos gráficos\n",
    "mpl.rcParams['axes.grid'] = True  # Ativa a grade nos gráficos\n",
    "data.plot()\n"
   ]
  },
  {
   "cell_type": "markdown",
   "id": "9243007b",
   "metadata": {},
   "source": [
    "## box plot\n",
    "\n",
    "quando estamos trabalhando com series temporais, box plos podem ser usados para ver a distribuição dos valores em um determinado intervalo\n",
    "\n",
    "Vamos criar um boxplot para ver o ano e o lugar "
   ]
  },
  {
   "cell_type": "code",
   "execution_count": 34,
   "id": "4830a2aa",
   "metadata": {},
   "outputs": [
    {
     "data": {
      "image/png": "[encoded data removed]",
      "text/plain": [
       "<Figure size 1500x900 with 1 Axes>"
      ]
     },
     "metadata": {},
     "output_type": "display_data"
    }
   ],
   "source": [
    "data['year'] = data.index.year \n",
    "sns.boxplot(data=data, x=\"year\", y=\"ET0_mm\", hue=\"year\", palette = 'Set2')\n",
    "# Visualizando os dado\n",
    "plt.xticks(rotation = 30)  # Rotaciona os rótulos do eixo x para melhor visualização\n",
    "plt.title('Boxplot de ET0_MM por Ano')\n",
    "plt.xlabel('Ano')\n",
    "plt.ylabel('ET0_MM')\n",
    "plt.show()  # Exibe o gráfico\n"
   ]
  },
  {
   "cell_type": "code",
   "execution_count": null,
   "id": "536e1f76",
   "metadata": {},
   "outputs": [],
   "source": [
    "import seaborn as sns\n",
    "import matplotlib.pyplot as plt\n",
    "\n",
    "# Garantir que o índice é datetime\n",
    "data.index = pd.to_datetime(data.index)\n",
    "\n",
    "# Extrair ano e mês como colunas\n",
    "data[\"year\"] = data.index.year\n",
    "data[\"month\"] = data.index.month\n",
    "\n",
    "# Agrupar por ano e mês\n",
    "data_grouped = data.groupby([\"year\", \"month\"]).sum()\n",
    "\n",
    "# Ajustar pivot (supondo que a coluna de interesse seja 'ET0_mm')\n",
    "sales_month_year = data_grouped[\"ET0_mm\"].reset_index().pivot(index=\"year\", columns=\"month\", values=\"ET0_mm\")\n",
    "\n",
    "# Criar o heatmap\n",
    "sns.heatmap(sales_month_year, cbar_kws={\"label\": \"ET0_mm\"}, annot=True, fmt=\".1f\", cmap=\"YlGnBu\")\n",
    "plt.title(\"ET0_mm Over Time\")\n",
    "plt.xlabel(\"Month\")\n",
    "plt.ylabel(\"Year\")\n",
    "plt.show()\n"
   ]
  },
  {
   "cell_type": "code",
   "execution_count": null,
   "id": "1969b22b",
   "metadata": {},
   "outputs": [],
   "source": []
  }
 ],
 "metadata": {
  "kernelspec": {
   "display_name": ".venv",
   "language": "python",
   "name": "python3"
  },
  "language_info": {
   "codemirror_mode": {
    "name": "ipython",
    "version": 3
   },
   "file_extension": ".py",
   "mimetype": "text/x-python",
   "name": "python",
   "nbconvert_exporter": "python",
   "pygments_lexer": "ipython3",
   "version": "3.11.9"
  }
 },
 "nbformat": 4,
 "nbformat_minor": 5
}
