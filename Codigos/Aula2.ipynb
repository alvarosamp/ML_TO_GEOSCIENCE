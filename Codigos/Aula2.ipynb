{
 "cells": [
  {
   "cell_type": "code",
   "execution_count": 1,
   "id": "27f1ba21",
   "metadata": {},
   "outputs": [
    {
     "name": "stdout",
     "output_type": "stream",
     "text": [
      "Requirement already satisfied: ee in c:\\users\\vish8\\onedrive\\desktop\\cursos\\mltogeoscience\\ml_to_geoscience\\.venv\\lib\\site-packages (0.2)\n",
      "Requirement already satisfied: blessings in c:\\users\\vish8\\onedrive\\desktop\\cursos\\mltogeoscience\\ml_to_geoscience\\.venv\\lib\\site-packages (from ee) (1.7)\n",
      "Requirement already satisfied: six in c:\\users\\vish8\\onedrive\\desktop\\cursos\\mltogeoscience\\ml_to_geoscience\\.venv\\lib\\site-packages (from blessings->ee) (1.17.0)\n",
      "Requirement already satisfied: geemap in c:\\users\\vish8\\onedrive\\desktop\\cursos\\mltogeoscience\\ml_to_geoscience\\.venv\\lib\\site-packages (0.35.3)\n",
      "Requirement already satisfied: bqplot in c:\\users\\vish8\\onedrive\\desktop\\cursos\\mltogeoscience\\ml_to_geoscience\\.venv\\lib\\site-packages (from geemap) (0.12.45)\n",
      "Requirement already satisfied: colour in c:\\users\\vish8\\onedrive\\desktop\\cursos\\mltogeoscience\\ml_to_geoscience\\.venv\\lib\\site-packages (from geemap) (0.1.5)\n",
      "Requirement already satisfied: earthengine-api>=1.0.0 in c:\\users\\vish8\\onedrive\\desktop\\cursos\\mltogeoscience\\ml_to_geoscience\\.venv\\lib\\site-packages (from geemap) (1.5.24)\n",
      "Requirement already satisfied: eerepr>=0.1.0 in c:\\users\\vish8\\onedrive\\desktop\\cursos\\mltogeoscience\\ml_to_geoscience\\.venv\\lib\\site-packages (from geemap) (0.1.2)\n",
      "Requirement already satisfied: folium>=0.17.0 in c:\\users\\vish8\\onedrive\\desktop\\cursos\\mltogeoscience\\ml_to_geoscience\\.venv\\lib\\site-packages (from geemap) (0.20.0)\n",
      "Requirement already satisfied: geocoder in c:\\users\\vish8\\onedrive\\desktop\\cursos\\mltogeoscience\\ml_to_geoscience\\.venv\\lib\\site-packages (from geemap) (1.38.1)\n",
      "Requirement already satisfied: ipyevents in c:\\users\\vish8\\onedrive\\desktop\\cursos\\mltogeoscience\\ml_to_geoscience\\.venv\\lib\\site-packages (from geemap) (2.0.2)\n",
      "Requirement already satisfied: ipyfilechooser>=0.6.0 in c:\\users\\vish8\\onedrive\\desktop\\cursos\\mltogeoscience\\ml_to_geoscience\\.venv\\lib\\site-packages (from geemap) (0.6.0)\n",
      "Requirement already satisfied: ipyleaflet>=0.19.2 in c:\\users\\vish8\\onedrive\\desktop\\cursos\\mltogeoscience\\ml_to_geoscience\\.venv\\lib\\site-packages (from geemap) (0.20.0)\n",
      "Requirement already satisfied: ipytree in c:\\users\\vish8\\onedrive\\desktop\\cursos\\mltogeoscience\\ml_to_geoscience\\.venv\\lib\\site-packages (from geemap) (0.2.2)\n",
      "Requirement already satisfied: matplotlib in c:\\users\\vish8\\onedrive\\desktop\\cursos\\mltogeoscience\\ml_to_geoscience\\.venv\\lib\\site-packages (from geemap) (3.10.3)\n",
      "Requirement already satisfied: numpy in c:\\users\\vish8\\onedrive\\desktop\\cursos\\mltogeoscience\\ml_to_geoscience\\.venv\\lib\\site-packages (from geemap) (2.3.1)\n",
      "Requirement already satisfied: pandas in c:\\users\\vish8\\onedrive\\desktop\\cursos\\mltogeoscience\\ml_to_geoscience\\.venv\\lib\\site-packages (from geemap) (2.3.1)\n",
      "Requirement already satisfied: plotly in c:\\users\\vish8\\onedrive\\desktop\\cursos\\mltogeoscience\\ml_to_geoscience\\.venv\\lib\\site-packages (from geemap) (6.2.0)\n",
      "Requirement already satisfied: pyperclip in c:\\users\\vish8\\onedrive\\desktop\\cursos\\mltogeoscience\\ml_to_geoscience\\.venv\\lib\\site-packages (from geemap) (1.9.0)\n",
      "Requirement already satisfied: pyshp>=2.3.1 in c:\\users\\vish8\\onedrive\\desktop\\cursos\\mltogeoscience\\ml_to_geoscience\\.venv\\lib\\site-packages (from geemap) (2.3.1)\n",
      "Requirement already satisfied: python-box in c:\\users\\vish8\\onedrive\\desktop\\cursos\\mltogeoscience\\ml_to_geoscience\\.venv\\lib\\site-packages (from geemap) (7.3.2)\n",
      "Requirement already satisfied: scooby in c:\\users\\vish8\\onedrive\\desktop\\cursos\\mltogeoscience\\ml_to_geoscience\\.venv\\lib\\site-packages (from geemap) (0.10.1)\n",
      "Requirement already satisfied: google-cloud-storage in c:\\users\\vish8\\onedrive\\desktop\\cursos\\mltogeoscience\\ml_to_geoscience\\.venv\\lib\\site-packages (from earthengine-api>=1.0.0->geemap) (3.2.0)\n",
      "Requirement already satisfied: google-api-python-client>=1.12.1 in c:\\users\\vish8\\onedrive\\desktop\\cursos\\mltogeoscience\\ml_to_geoscience\\.venv\\lib\\site-packages (from earthengine-api>=1.0.0->geemap) (2.176.0)\n",
      "Requirement already satisfied: google-auth>=1.4.1 in c:\\users\\vish8\\onedrive\\desktop\\cursos\\mltogeoscience\\ml_to_geoscience\\.venv\\lib\\site-packages (from earthengine-api>=1.0.0->geemap) (2.40.3)\n",
      "Requirement already satisfied: google-auth-httplib2>=0.0.3 in c:\\users\\vish8\\onedrive\\desktop\\cursos\\mltogeoscience\\ml_to_geoscience\\.venv\\lib\\site-packages (from earthengine-api>=1.0.0->geemap) (0.2.0)\n",
      "Requirement already satisfied: httplib2<1dev,>=0.9.2 in c:\\users\\vish8\\onedrive\\desktop\\cursos\\mltogeoscience\\ml_to_geoscience\\.venv\\lib\\site-packages (from earthengine-api>=1.0.0->geemap) (0.22.0)\n",
      "Requirement already satisfied: requests in c:\\users\\vish8\\onedrive\\desktop\\cursos\\mltogeoscience\\ml_to_geoscience\\.venv\\lib\\site-packages (from earthengine-api>=1.0.0->geemap) (2.32.4)\n",
      "Requirement already satisfied: pyparsing!=3.0.0,!=3.0.1,!=3.0.2,!=3.0.3,<4,>=2.4.2 in c:\\users\\vish8\\onedrive\\desktop\\cursos\\mltogeoscience\\ml_to_geoscience\\.venv\\lib\\site-packages (from httplib2<1dev,>=0.9.2->earthengine-api>=1.0.0->geemap) (3.2.3)\n",
      "Requirement already satisfied: branca>=0.6.0 in c:\\users\\vish8\\onedrive\\desktop\\cursos\\mltogeoscience\\ml_to_geoscience\\.venv\\lib\\site-packages (from folium>=0.17.0->geemap) (0.8.1)\n",
      "Requirement already satisfied: jinja2>=2.9 in c:\\users\\vish8\\onedrive\\desktop\\cursos\\mltogeoscience\\ml_to_geoscience\\.venv\\lib\\site-packages (from folium>=0.17.0->geemap) (3.1.6)\n",
      "Requirement already satisfied: xyzservices in c:\\users\\vish8\\onedrive\\desktop\\cursos\\mltogeoscience\\ml_to_geoscience\\.venv\\lib\\site-packages (from folium>=0.17.0->geemap) (2025.4.0)\n",
      "Requirement already satisfied: google-api-core!=2.0.*,!=2.1.*,!=2.2.*,!=2.3.0,<3.0.0,>=1.31.5 in c:\\users\\vish8\\onedrive\\desktop\\cursos\\mltogeoscience\\ml_to_geoscience\\.venv\\lib\\site-packages (from google-api-python-client>=1.12.1->earthengine-api>=1.0.0->geemap) (2.25.1)\n",
      "Requirement already satisfied: uritemplate<5,>=3.0.1 in c:\\users\\vish8\\onedrive\\desktop\\cursos\\mltogeoscience\\ml_to_geoscience\\.venv\\lib\\site-packages (from google-api-python-client>=1.12.1->earthengine-api>=1.0.0->geemap) (4.2.0)\n",
      "Requirement already satisfied: googleapis-common-protos<2.0.0,>=1.56.2 in c:\\users\\vish8\\onedrive\\desktop\\cursos\\mltogeoscience\\ml_to_geoscience\\.venv\\lib\\site-packages (from google-api-core!=2.0.*,!=2.1.*,!=2.2.*,!=2.3.0,<3.0.0,>=1.31.5->google-api-python-client>=1.12.1->earthengine-api>=1.0.0->geemap) (1.70.0)\n",
      "Requirement already satisfied: protobuf!=3.20.0,!=3.20.1,!=4.21.0,!=4.21.1,!=4.21.2,!=4.21.3,!=4.21.4,!=4.21.5,<7.0.0,>=3.19.5 in c:\\users\\vish8\\onedrive\\desktop\\cursos\\mltogeoscience\\ml_to_geoscience\\.venv\\lib\\site-packages (from google-api-core!=2.0.*,!=2.1.*,!=2.2.*,!=2.3.0,<3.0.0,>=1.31.5->google-api-python-client>=1.12.1->earthengine-api>=1.0.0->geemap) (6.31.1)\n",
      "Requirement already satisfied: proto-plus<2.0.0,>=1.22.3 in c:\\users\\vish8\\onedrive\\desktop\\cursos\\mltogeoscience\\ml_to_geoscience\\.venv\\lib\\site-packages (from google-api-core!=2.0.*,!=2.1.*,!=2.2.*,!=2.3.0,<3.0.0,>=1.31.5->google-api-python-client>=1.12.1->earthengine-api>=1.0.0->geemap) (1.26.1)\n",
      "Requirement already satisfied: cachetools<6.0,>=2.0.0 in c:\\users\\vish8\\onedrive\\desktop\\cursos\\mltogeoscience\\ml_to_geoscience\\.venv\\lib\\site-packages (from google-auth>=1.4.1->earthengine-api>=1.0.0->geemap) (5.5.2)\n",
      "Requirement already satisfied: pyasn1-modules>=0.2.1 in c:\\users\\vish8\\onedrive\\desktop\\cursos\\mltogeoscience\\ml_to_geoscience\\.venv\\lib\\site-packages (from google-auth>=1.4.1->earthengine-api>=1.0.0->geemap) (0.4.2)\n",
      "Requirement already satisfied: rsa<5,>=3.1.4 in c:\\users\\vish8\\onedrive\\desktop\\cursos\\mltogeoscience\\ml_to_geoscience\\.venv\\lib\\site-packages (from google-auth>=1.4.1->earthengine-api>=1.0.0->geemap) (4.9.1)\n",
      "Requirement already satisfied: charset_normalizer<4,>=2 in c:\\users\\vish8\\onedrive\\desktop\\cursos\\mltogeoscience\\ml_to_geoscience\\.venv\\lib\\site-packages (from requests->earthengine-api>=1.0.0->geemap) (3.4.2)\n",
      "Requirement already satisfied: idna<4,>=2.5 in c:\\users\\vish8\\onedrive\\desktop\\cursos\\mltogeoscience\\ml_to_geoscience\\.venv\\lib\\site-packages (from requests->earthengine-api>=1.0.0->geemap) (3.10)\n",
      "Requirement already satisfied: urllib3<3,>=1.21.1 in c:\\users\\vish8\\onedrive\\desktop\\cursos\\mltogeoscience\\ml_to_geoscience\\.venv\\lib\\site-packages (from requests->earthengine-api>=1.0.0->geemap) (2.5.0)\n",
      "Requirement already satisfied: certifi>=2017.4.17 in c:\\users\\vish8\\onedrive\\desktop\\cursos\\mltogeoscience\\ml_to_geoscience\\.venv\\lib\\site-packages (from requests->earthengine-api>=1.0.0->geemap) (2025.7.14)\n",
      "Requirement already satisfied: pyasn1>=0.1.3 in c:\\users\\vish8\\onedrive\\desktop\\cursos\\mltogeoscience\\ml_to_geoscience\\.venv\\lib\\site-packages (from rsa<5,>=3.1.4->google-auth>=1.4.1->earthengine-api>=1.0.0->geemap) (0.6.1)\n",
      "Requirement already satisfied: ipywidgets in c:\\users\\vish8\\onedrive\\desktop\\cursos\\mltogeoscience\\ml_to_geoscience\\.venv\\lib\\site-packages (from ipyfilechooser>=0.6.0->geemap) (8.1.7)\n",
      "Requirement already satisfied: jupyter-leaflet<0.21,>=0.20 in c:\\users\\vish8\\onedrive\\desktop\\cursos\\mltogeoscience\\ml_to_geoscience\\.venv\\lib\\site-packages (from ipyleaflet>=0.19.2->geemap) (0.20.0)\n",
      "Requirement already satisfied: traittypes<3,>=0.2.1 in c:\\users\\vish8\\onedrive\\desktop\\cursos\\mltogeoscience\\ml_to_geoscience\\.venv\\lib\\site-packages (from ipyleaflet>=0.19.2->geemap) (0.2.1)\n",
      "Requirement already satisfied: comm>=0.1.3 in c:\\users\\vish8\\onedrive\\desktop\\cursos\\mltogeoscience\\ml_to_geoscience\\.venv\\lib\\site-packages (from ipywidgets->ipyfilechooser>=0.6.0->geemap) (0.2.2)\n",
      "Requirement already satisfied: ipython>=6.1.0 in c:\\users\\vish8\\onedrive\\desktop\\cursos\\mltogeoscience\\ml_to_geoscience\\.venv\\lib\\site-packages (from ipywidgets->ipyfilechooser>=0.6.0->geemap) (9.4.0)\n",
      "Requirement already satisfied: traitlets>=4.3.1 in c:\\users\\vish8\\onedrive\\desktop\\cursos\\mltogeoscience\\ml_to_geoscience\\.venv\\lib\\site-packages (from ipywidgets->ipyfilechooser>=0.6.0->geemap) (5.14.3)\n",
      "Requirement already satisfied: widgetsnbextension~=4.0.14 in c:\\users\\vish8\\onedrive\\desktop\\cursos\\mltogeoscience\\ml_to_geoscience\\.venv\\lib\\site-packages (from ipywidgets->ipyfilechooser>=0.6.0->geemap) (4.0.14)\n",
      "Requirement already satisfied: jupyterlab_widgets~=3.0.15 in c:\\users\\vish8\\onedrive\\desktop\\cursos\\mltogeoscience\\ml_to_geoscience\\.venv\\lib\\site-packages (from ipywidgets->ipyfilechooser>=0.6.0->geemap) (3.0.15)\n",
      "Requirement already satisfied: colorama in c:\\users\\vish8\\onedrive\\desktop\\cursos\\mltogeoscience\\ml_to_geoscience\\.venv\\lib\\site-packages (from ipython>=6.1.0->ipywidgets->ipyfilechooser>=0.6.0->geemap) (0.4.6)\n",
      "Requirement already satisfied: decorator in c:\\users\\vish8\\onedrive\\desktop\\cursos\\mltogeoscience\\ml_to_geoscience\\.venv\\lib\\site-packages (from ipython>=6.1.0->ipywidgets->ipyfilechooser>=0.6.0->geemap) (5.2.1)\n",
      "Requirement already satisfied: ipython-pygments-lexers in c:\\users\\vish8\\onedrive\\desktop\\cursos\\mltogeoscience\\ml_to_geoscience\\.venv\\lib\\site-packages (from ipython>=6.1.0->ipywidgets->ipyfilechooser>=0.6.0->geemap) (1.1.1)\n",
      "Requirement already satisfied: jedi>=0.16 in c:\\users\\vish8\\onedrive\\desktop\\cursos\\mltogeoscience\\ml_to_geoscience\\.venv\\lib\\site-packages (from ipython>=6.1.0->ipywidgets->ipyfilechooser>=0.6.0->geemap) (0.19.2)\n",
      "Requirement already satisfied: matplotlib-inline in c:\\users\\vish8\\onedrive\\desktop\\cursos\\mltogeoscience\\ml_to_geoscience\\.venv\\lib\\site-packages (from ipython>=6.1.0->ipywidgets->ipyfilechooser>=0.6.0->geemap) (0.1.7)\n",
      "Requirement already satisfied: prompt_toolkit<3.1.0,>=3.0.41 in c:\\users\\vish8\\onedrive\\desktop\\cursos\\mltogeoscience\\ml_to_geoscience\\.venv\\lib\\site-packages (from ipython>=6.1.0->ipywidgets->ipyfilechooser>=0.6.0->geemap) (3.0.51)\n",
      "Requirement already satisfied: pygments>=2.4.0 in c:\\users\\vish8\\onedrive\\desktop\\cursos\\mltogeoscience\\ml_to_geoscience\\.venv\\lib\\site-packages (from ipython>=6.1.0->ipywidgets->ipyfilechooser>=0.6.0->geemap) (2.19.2)\n",
      "Requirement already satisfied: stack_data in c:\\users\\vish8\\onedrive\\desktop\\cursos\\mltogeoscience\\ml_to_geoscience\\.venv\\lib\\site-packages (from ipython>=6.1.0->ipywidgets->ipyfilechooser>=0.6.0->geemap) (0.6.3)\n",
      "Requirement already satisfied: typing_extensions>=4.6 in c:\\users\\vish8\\onedrive\\desktop\\cursos\\mltogeoscience\\ml_to_geoscience\\.venv\\lib\\site-packages (from ipython>=6.1.0->ipywidgets->ipyfilechooser>=0.6.0->geemap) (4.14.1)\n",
      "Requirement already satisfied: wcwidth in c:\\users\\vish8\\onedrive\\desktop\\cursos\\mltogeoscience\\ml_to_geoscience\\.venv\\lib\\site-packages (from prompt_toolkit<3.1.0,>=3.0.41->ipython>=6.1.0->ipywidgets->ipyfilechooser>=0.6.0->geemap) (0.2.13)\n",
      "Requirement already satisfied: parso<0.9.0,>=0.8.4 in c:\\users\\vish8\\onedrive\\desktop\\cursos\\mltogeoscience\\ml_to_geoscience\\.venv\\lib\\site-packages (from jedi>=0.16->ipython>=6.1.0->ipywidgets->ipyfilechooser>=0.6.0->geemap) (0.8.4)\n",
      "Requirement already satisfied: MarkupSafe>=2.0 in c:\\users\\vish8\\onedrive\\desktop\\cursos\\mltogeoscience\\ml_to_geoscience\\.venv\\lib\\site-packages (from jinja2>=2.9->folium>=0.17.0->geemap) (3.0.2)\n",
      "Requirement already satisfied: python-dateutil>=2.8.2 in c:\\users\\vish8\\onedrive\\desktop\\cursos\\mltogeoscience\\ml_to_geoscience\\.venv\\lib\\site-packages (from pandas->geemap) (2.9.0.post0)\n",
      "Requirement already satisfied: pytz>=2020.1 in c:\\users\\vish8\\onedrive\\desktop\\cursos\\mltogeoscience\\ml_to_geoscience\\.venv\\lib\\site-packages (from pandas->geemap) (2025.2)\n",
      "Requirement already satisfied: tzdata>=2022.7 in c:\\users\\vish8\\onedrive\\desktop\\cursos\\mltogeoscience\\ml_to_geoscience\\.venv\\lib\\site-packages (from pandas->geemap) (2025.2)\n",
      "Requirement already satisfied: six>=1.5 in c:\\users\\vish8\\onedrive\\desktop\\cursos\\mltogeoscience\\ml_to_geoscience\\.venv\\lib\\site-packages (from python-dateutil>=2.8.2->pandas->geemap) (1.17.0)\n",
      "Requirement already satisfied: click in c:\\users\\vish8\\onedrive\\desktop\\cursos\\mltogeoscience\\ml_to_geoscience\\.venv\\lib\\site-packages (from geocoder->geemap) (8.2.1)\n",
      "Requirement already satisfied: future in c:\\users\\vish8\\onedrive\\desktop\\cursos\\mltogeoscience\\ml_to_geoscience\\.venv\\lib\\site-packages (from geocoder->geemap) (1.0.0)\n",
      "Requirement already satisfied: ratelim in c:\\users\\vish8\\onedrive\\desktop\\cursos\\mltogeoscience\\ml_to_geoscience\\.venv\\lib\\site-packages (from geocoder->geemap) (0.1.6)\n",
      "Requirement already satisfied: google-cloud-core<3.0.0,>=2.4.2 in c:\\users\\vish8\\onedrive\\desktop\\cursos\\mltogeoscience\\ml_to_geoscience\\.venv\\lib\\site-packages (from google-cloud-storage->earthengine-api>=1.0.0->geemap) (2.4.3)\n",
      "Requirement already satisfied: google-resumable-media<3.0.0,>=2.7.2 in c:\\users\\vish8\\onedrive\\desktop\\cursos\\mltogeoscience\\ml_to_geoscience\\.venv\\lib\\site-packages (from google-cloud-storage->earthengine-api>=1.0.0->geemap) (2.7.2)\n",
      "Requirement already satisfied: google-crc32c<2.0.0,>=1.1.3 in c:\\users\\vish8\\onedrive\\desktop\\cursos\\mltogeoscience\\ml_to_geoscience\\.venv\\lib\\site-packages (from google-cloud-storage->earthengine-api>=1.0.0->geemap) (1.7.1)\n",
      "Requirement already satisfied: contourpy>=1.0.1 in c:\\users\\vish8\\onedrive\\desktop\\cursos\\mltogeoscience\\ml_to_geoscience\\.venv\\lib\\site-packages (from matplotlib->geemap) (1.3.2)\n",
      "Requirement already satisfied: cycler>=0.10 in c:\\users\\vish8\\onedrive\\desktop\\cursos\\mltogeoscience\\ml_to_geoscience\\.venv\\lib\\site-packages (from matplotlib->geemap) (0.12.1)\n",
      "Requirement already satisfied: fonttools>=4.22.0 in c:\\users\\vish8\\onedrive\\desktop\\cursos\\mltogeoscience\\ml_to_geoscience\\.venv\\lib\\site-packages (from matplotlib->geemap) (4.59.0)\n",
      "Requirement already satisfied: kiwisolver>=1.3.1 in c:\\users\\vish8\\onedrive\\desktop\\cursos\\mltogeoscience\\ml_to_geoscience\\.venv\\lib\\site-packages (from matplotlib->geemap) (1.4.8)\n",
      "Requirement already satisfied: packaging>=20.0 in c:\\users\\vish8\\onedrive\\desktop\\cursos\\mltogeoscience\\ml_to_geoscience\\.venv\\lib\\site-packages (from matplotlib->geemap) (25.0)\n",
      "Requirement already satisfied: pillow>=8 in c:\\users\\vish8\\onedrive\\desktop\\cursos\\mltogeoscience\\ml_to_geoscience\\.venv\\lib\\site-packages (from matplotlib->geemap) (11.3.0)\n",
      "Requirement already satisfied: narwhals>=1.15.1 in c:\\users\\vish8\\onedrive\\desktop\\cursos\\mltogeoscience\\ml_to_geoscience\\.venv\\lib\\site-packages (from plotly->geemap) (1.47.1)\n",
      "Requirement already satisfied: executing>=1.2.0 in c:\\users\\vish8\\onedrive\\desktop\\cursos\\mltogeoscience\\ml_to_geoscience\\.venv\\lib\\site-packages (from stack_data->ipython>=6.1.0->ipywidgets->ipyfilechooser>=0.6.0->geemap) (2.2.0)\n",
      "Requirement already satisfied: asttokens>=2.1.0 in c:\\users\\vish8\\onedrive\\desktop\\cursos\\mltogeoscience\\ml_to_geoscience\\.venv\\lib\\site-packages (from stack_data->ipython>=6.1.0->ipywidgets->ipyfilechooser>=0.6.0->geemap) (3.0.0)\n",
      "Requirement already satisfied: pure-eval in c:\\users\\vish8\\onedrive\\desktop\\cursos\\mltogeoscience\\ml_to_geoscience\\.venv\\lib\\site-packages (from stack_data->ipython>=6.1.0->ipywidgets->ipyfilechooser>=0.6.0->geemap) (0.2.3)\n"
     ]
    }
   ],
   "source": [
    "!pip install ee\n",
    "!pip install geemap"
   ]
  },
  {
   "cell_type": "code",
   "execution_count": 1,
   "id": "2c5589d7",
   "metadata": {},
   "outputs": [],
   "source": [
    "import ee \n",
    "import matplotlib.pyplot as plt\n",
    "import numpy as np\n",
    "import pandas as pd\n",
    "import geemap"
   ]
  },
  {
   "cell_type": "code",
   "execution_count": null,
   "id": "44b9ae4b",
   "metadata": {},
   "outputs": [
    {
     "data": {
      "text/html": [
       "\n",
       "            <style>\n",
       "                .geemap-dark {\n",
       "                    --jp-widgets-color: white;\n",
       "                    --jp-widgets-label-color: white;\n",
       "                    --jp-ui-font-color1: white;\n",
       "                    --jp-layout-color2: #454545;\n",
       "                    background-color: #383838;\n",
       "                }\n",
       "\n",
       "                .geemap-dark .jupyter-button {\n",
       "                    --jp-layout-color3: #383838;\n",
       "                }\n",
       "\n",
       "                .geemap-colab {\n",
       "                    background-color: var(--colab-primary-surface-color, white);\n",
       "                }\n",
       "\n",
       "                .geemap-colab .jupyter-button {\n",
       "                    --jp-layout-color3: var(--colab-primary-surface-color, white);\n",
       "                }\n",
       "            </style>\n",
       "            "
      ],
      "text/plain": [
       "<IPython.core.display.HTML object>"
      ]
     },
     "metadata": {},
     "output_type": "display_data"
    },
    {
     "data": {
      "text/html": [
       "<p>To authorize access needed by Earth Engine, open the following\n",
       "        URL in a web browser and follow the instructions:</p>\n",
       "        <p><a href=https://code.earthengine.google.com/client-auth?scopes=https%3A//www.googleapis.com/auth/earthengine%20https%3A//www.googleapis.com/auth/cloud-platform%20https%3A//www.googleapis.com/auth/drive%20https%3A//www.googleapis.com/auth/devstorage.full_control&request_id=kZJDNmECb5d6vvt4okXj0OufWOxGCbe7fftqUpsYD3g&tc=YW75EeDkzyCQIiCnQ6Mw9ncn4Y-NWqglvDFaVNhzaZE&cc=YfAVXDQllPf2v-m7CmdZgGAnhOfiZxRmdWYJUUwWngY>https://code.earthengine.google.com/client-auth?scopes=https%3A//www.googleapis.com/auth/earthengine%20https%3A//www.googleapis.com/auth/cloud-platform%20https%3A//www.googleapis.com/auth/drive%20https%3A//www.googleapis.com/auth/devstorage.full_control&request_id=kZJDNmECb5d6vvt4okXj0OufWOxGCbe7fftqUpsYD3g&tc=YW75EeDkzyCQIiCnQ6Mw9ncn4Y-NWqglvDFaVNhzaZE&cc=YfAVXDQllPf2v-m7CmdZgGAnhOfiZxRmdWYJUUwWngY</a></p>\n",
       "        <p>The authorization workflow will generate a code, which you should paste in the box below.</p>\n",
       "        "
      ],
      "text/plain": [
       "<IPython.core.display.HTML object>"
      ]
     },
     "metadata": {},
     "output_type": "display_data"
    }
   ],
   "source": [
    "ee.Authenticate()\n",
    "ee.Initialize(project='my-project-1527255156007')"
   ]
  },
  {
   "cell_type": "code",
   "execution_count": null,
   "id": "a0784d09",
   "metadata": {},
   "outputs": [],
   "source": []
  }
 ],
 "metadata": {
  "kernelspec": {
   "display_name": ".venv",
   "language": "python",
   "name": "python3"
  },
  "language_info": {
   "codemirror_mode": {
    "name": "ipython",
    "version": 3
   },
   "file_extension": ".py",
   "mimetype": "text/x-python",
   "name": "python",
   "nbconvert_exporter": "python",
   "pygments_lexer": "ipython3",
   "version": "3.11.9"
  }
 },
 "nbformat": 4,
 "nbformat_minor": 5
}
